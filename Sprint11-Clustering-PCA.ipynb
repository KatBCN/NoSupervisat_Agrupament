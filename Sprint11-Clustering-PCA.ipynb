{
 "cells": [
  {
   "cell_type": "markdown",
   "id": "98b21b19",
   "metadata": {},
   "source": [
    "# <font color='#d50283'>IT Academy - Data Science Itinerary</font>\n",
    "## Sprint 11 Task 1 - Clustering - PCA\n",
    "### Assignment by: Kat Weissman\n",
    "\n",
    "#### General objective:\n",
    "\n",
    "- Become familiar with clustering algorithms.\n",
    "\n",
    "#### Python Learning Objectives:\n",
    "- K Means\n",
    "- Hierarchical clustering"
   ]
  },
  {
   "cell_type": "markdown",
   "id": "6ce01116",
   "metadata": {},
   "source": [
    "*Recommended learning resources:*\n",
    "- https://towardsdatascience.com/the-5-clustering-algorithms-data-scientists-need-to-know-a36d136ef68\n",
    "- https://realpython.com/k-means-clustering-python/\n",
    "- https://towardsdatascience.com/pca-using-python-scikit-learn-e653f8989e60\n",
    "- https://jakevdp.github.io/PythonDataScienceHandbook/05.09-principal-component-analysis.html\n",
    "- https://towardsdatascience.com/machine-learning-algorithms-part-12-hierarchical-agglomerative-clustering-example-in-python-1e18e0075019\n",
    "- https://www.analyticsvidhya.com/blog/2019/05/beginners-guide-hierarchical-clustering/\n"
   ]
  },
  {
   "cell_type": "code",
   "execution_count": 2,
   "id": "932e69da",
   "metadata": {
    "ExecuteTime": {
     "end_time": "2021-07-22T10:31:49.600112Z",
     "start_time": "2021-07-22T10:31:49.590900Z"
    }
   },
   "outputs": [],
   "source": [
    "#Import libraries\n",
    "import numpy as np\n",
    "import pandas as pd\n",
    "import matplotlib.pyplot as plt\n",
    "import seaborn as sns\n",
    "from sklearn.decomposition import PCA\n",
    "from sklearn.cluster import KMeans\n",
    "from sklearn.cluster import MiniBatchKMeans\n",
    "from sklearn.metrics import silhouette_score\n",
    "from sklearn.preprocessing import StandardScaler\n",
    "from sklearn.preprocessing import RobustScaler"
   ]
  },
  {
   "cell_type": "markdown",
   "id": "a328a38d",
   "metadata": {},
   "source": [
    "### Principal Component Analysis"
   ]
  },
  {
   "cell_type": "code",
   "execution_count": 3,
   "id": "6e0f87d6",
   "metadata": {},
   "outputs": [],
   "source": [
    "pd.set_option('display.max_columns', None)  #set display to show all columns"
   ]
  },
  {
   "cell_type": "markdown",
   "id": "fa438a01",
   "metadata": {},
   "source": [
    "I will load the data which I pre-processed and scaled using RobustScaler in a different notebook.\n",
    "\n",
    "- https://github.com/KatBCN/NoSupervisat_Classificacio/blob/main/Sprint11-Clustering-Sample-PreProcessing%20.ipynb"
   ]
  },
  {
   "cell_type": "code",
   "execution_count": 4,
   "id": "276e8c30",
   "metadata": {},
   "outputs": [],
   "source": [
    "# load data\n",
    "data_link = 'https://github.com/KatBCN/NoSupervisat_Classificacio/blob/main/flights-sampled-robustscale.csv?raw=true'\n",
    "df = pd.read_csv(data_link)"
   ]
  },
  {
   "cell_type": "markdown",
   "id": "0930e7af",
   "metadata": {},
   "source": [
    "#### Data Exploration"
   ]
  },
  {
   "cell_type": "code",
   "execution_count": 5,
   "id": "676b7b91",
   "metadata": {},
   "outputs": [
    {
     "data": {
      "text/plain": [
       "(96419, 7)"
      ]
     },
     "execution_count": 5,
     "metadata": {},
     "output_type": "execute_result"
    }
   ],
   "source": [
    "# Show number of rows and columns in dataframe\n",
    "df.shape"
   ]
  },
  {
   "cell_type": "code",
   "execution_count": 6,
   "id": "fe56a352",
   "metadata": {
    "scrolled": false
   },
   "outputs": [
    {
     "data": {
      "text/plain": [
       "CRSElapsedTime    float64\n",
       "AirTime           float64\n",
       "ArrDelay          float64\n",
       "DepDelay          float64\n",
       "Distance          float64\n",
       "TaxiIn            float64\n",
       "TaxiOut           float64\n",
       "dtype: object"
      ]
     },
     "execution_count": 6,
     "metadata": {},
     "output_type": "execute_result"
    }
   ],
   "source": [
    "# Show column names and dtypes\n",
    "df.dtypes"
   ]
  },
  {
   "cell_type": "code",
   "execution_count": 7,
   "id": "da2379e4",
   "metadata": {
    "scrolled": true
   },
   "outputs": [
    {
     "data": {
      "text/html": [
       "<div>\n",
       "<style scoped>\n",
       "    .dataframe tbody tr th:only-of-type {\n",
       "        vertical-align: middle;\n",
       "    }\n",
       "\n",
       "    .dataframe tbody tr th {\n",
       "        vertical-align: top;\n",
       "    }\n",
       "\n",
       "    .dataframe thead th {\n",
       "        text-align: right;\n",
       "    }\n",
       "</style>\n",
       "<table border=\"1\" class=\"dataframe\">\n",
       "  <thead>\n",
       "    <tr style=\"text-align: right;\">\n",
       "      <th></th>\n",
       "      <th>CRSElapsedTime</th>\n",
       "      <th>AirTime</th>\n",
       "      <th>ArrDelay</th>\n",
       "      <th>DepDelay</th>\n",
       "      <th>Distance</th>\n",
       "      <th>TaxiIn</th>\n",
       "      <th>TaxiOut</th>\n",
       "    </tr>\n",
       "  </thead>\n",
       "  <tbody>\n",
       "    <tr>\n",
       "      <th>0</th>\n",
       "      <td>1.892857</td>\n",
       "      <td>2.050633</td>\n",
       "      <td>-0.510638</td>\n",
       "      <td>-0.439024</td>\n",
       "      <td>2.048485</td>\n",
       "      <td>-0.25</td>\n",
       "      <td>-0.181818</td>\n",
       "    </tr>\n",
       "    <tr>\n",
       "      <th>1</th>\n",
       "      <td>-0.333333</td>\n",
       "      <td>-0.265823</td>\n",
       "      <td>-0.191489</td>\n",
       "      <td>-0.439024</td>\n",
       "      <td>-0.359091</td>\n",
       "      <td>0.75</td>\n",
       "      <td>0.454545</td>\n",
       "    </tr>\n",
       "    <tr>\n",
       "      <th>2</th>\n",
       "      <td>-0.666667</td>\n",
       "      <td>-0.620253</td>\n",
       "      <td>-0.276596</td>\n",
       "      <td>-0.317073</td>\n",
       "      <td>-0.621212</td>\n",
       "      <td>-0.75</td>\n",
       "      <td>0.181818</td>\n",
       "    </tr>\n",
       "    <tr>\n",
       "      <th>3</th>\n",
       "      <td>0.107143</td>\n",
       "      <td>0.392405</td>\n",
       "      <td>-0.021277</td>\n",
       "      <td>-0.195122</td>\n",
       "      <td>0.121212</td>\n",
       "      <td>-0.75</td>\n",
       "      <td>-0.545455</td>\n",
       "    </tr>\n",
       "    <tr>\n",
       "      <th>4</th>\n",
       "      <td>-0.011905</td>\n",
       "      <td>-0.050633</td>\n",
       "      <td>-0.212766</td>\n",
       "      <td>0.121951</td>\n",
       "      <td>-0.025758</td>\n",
       "      <td>0.00</td>\n",
       "      <td>-0.545455</td>\n",
       "    </tr>\n",
       "  </tbody>\n",
       "</table>\n",
       "</div>"
      ],
      "text/plain": [
       "   CRSElapsedTime   AirTime  ArrDelay  DepDelay  Distance  TaxiIn   TaxiOut\n",
       "0        1.892857  2.050633 -0.510638 -0.439024  2.048485   -0.25 -0.181818\n",
       "1       -0.333333 -0.265823 -0.191489 -0.439024 -0.359091    0.75  0.454545\n",
       "2       -0.666667 -0.620253 -0.276596 -0.317073 -0.621212   -0.75  0.181818\n",
       "3        0.107143  0.392405 -0.021277 -0.195122  0.121212   -0.75 -0.545455\n",
       "4       -0.011905 -0.050633 -0.212766  0.121951 -0.025758    0.00 -0.545455"
      ]
     },
     "execution_count": 7,
     "metadata": {},
     "output_type": "execute_result"
    }
   ],
   "source": [
    "# Display first 5 rows of dataframe\n",
    "df.head(5)"
   ]
  },
  {
   "cell_type": "code",
   "execution_count": 8,
   "id": "a2dec1f7",
   "metadata": {},
   "outputs": [
    {
     "data": {
      "text/plain": [
       "22"
      ]
     },
     "execution_count": 8,
     "metadata": {},
     "output_type": "execute_result"
    }
   ],
   "source": [
    "# Check for duplicates\n",
    "sum(df.duplicated())"
   ]
  },
  {
   "cell_type": "code",
   "execution_count": 9,
   "id": "f9fb461c",
   "metadata": {
    "scrolled": true
   },
   "outputs": [
    {
     "data": {
      "text/plain": [
       "CRSElapsedTime    0\n",
       "AirTime           0\n",
       "ArrDelay          0\n",
       "DepDelay          0\n",
       "Distance          0\n",
       "TaxiIn            0\n",
       "TaxiOut           0\n",
       "dtype: int64"
      ]
     },
     "execution_count": 9,
     "metadata": {},
     "output_type": "execute_result"
    }
   ],
   "source": [
    "# Check for NA values\n",
    "df.isna().sum()"
   ]
  },
  {
   "cell_type": "code",
   "execution_count": 10,
   "id": "8f589130",
   "metadata": {
    "scrolled": false
   },
   "outputs": [
    {
     "data": {
      "text/html": [
       "<div>\n",
       "<style scoped>\n",
       "    .dataframe tbody tr th:only-of-type {\n",
       "        vertical-align: middle;\n",
       "    }\n",
       "\n",
       "    .dataframe tbody tr th {\n",
       "        vertical-align: top;\n",
       "    }\n",
       "\n",
       "    .dataframe thead th {\n",
       "        text-align: right;\n",
       "    }\n",
       "</style>\n",
       "<table border=\"1\" class=\"dataframe\">\n",
       "  <thead>\n",
       "    <tr style=\"text-align: right;\">\n",
       "      <th></th>\n",
       "      <th>CRSElapsedTime</th>\n",
       "      <th>AirTime</th>\n",
       "      <th>ArrDelay</th>\n",
       "      <th>DepDelay</th>\n",
       "      <th>Distance</th>\n",
       "      <th>TaxiIn</th>\n",
       "      <th>TaxiOut</th>\n",
       "    </tr>\n",
       "  </thead>\n",
       "  <tbody>\n",
       "    <tr>\n",
       "      <th>count</th>\n",
       "      <td>96419.000000</td>\n",
       "      <td>96419.000000</td>\n",
       "      <td>96419.000000</td>\n",
       "      <td>96419.000000</td>\n",
       "      <td>96419.000000</td>\n",
       "      <td>96419.000000</td>\n",
       "      <td>96419.000000</td>\n",
       "    </tr>\n",
       "    <tr>\n",
       "      <th>mean</th>\n",
       "      <td>0.215144</td>\n",
       "      <td>0.229707</td>\n",
       "      <td>0.385457</td>\n",
       "      <td>0.464967</td>\n",
       "      <td>0.237805</td>\n",
       "      <td>0.206622</td>\n",
       "      <td>0.377418</td>\n",
       "    </tr>\n",
       "    <tr>\n",
       "      <th>std</th>\n",
       "      <td>0.845323</td>\n",
       "      <td>0.866049</td>\n",
       "      <td>1.194652</td>\n",
       "      <td>1.282684</td>\n",
       "      <td>0.866427</td>\n",
       "      <td>1.298131</td>\n",
       "      <td>1.295855</td>\n",
       "    </tr>\n",
       "    <tr>\n",
       "      <th>min</th>\n",
       "      <td>-1.202381</td>\n",
       "      <td>-1.139241</td>\n",
       "      <td>-1.914894</td>\n",
       "      <td>-0.439024</td>\n",
       "      <td>-0.872727</td>\n",
       "      <td>-1.500000</td>\n",
       "      <td>-1.272727</td>\n",
       "    </tr>\n",
       "    <tr>\n",
       "      <th>25%</th>\n",
       "      <td>-0.416667</td>\n",
       "      <td>-0.405063</td>\n",
       "      <td>-0.319149</td>\n",
       "      <td>-0.292683</td>\n",
       "      <td>-0.407576</td>\n",
       "      <td>-0.500000</td>\n",
       "      <td>-0.363636</td>\n",
       "    </tr>\n",
       "    <tr>\n",
       "      <th>50%</th>\n",
       "      <td>0.000000</td>\n",
       "      <td>0.000000</td>\n",
       "      <td>0.000000</td>\n",
       "      <td>0.000000</td>\n",
       "      <td>0.000000</td>\n",
       "      <td>0.000000</td>\n",
       "      <td>0.000000</td>\n",
       "    </tr>\n",
       "    <tr>\n",
       "      <th>75%</th>\n",
       "      <td>0.583333</td>\n",
       "      <td>0.594937</td>\n",
       "      <td>0.680851</td>\n",
       "      <td>0.707317</td>\n",
       "      <td>0.592424</td>\n",
       "      <td>0.500000</td>\n",
       "      <td>0.636364</td>\n",
       "    </tr>\n",
       "    <tr>\n",
       "      <th>max</th>\n",
       "      <td>6.476190</td>\n",
       "      <td>6.797468</td>\n",
       "      <td>26.148936</td>\n",
       "      <td>29.609756</td>\n",
       "      <td>6.598485</td>\n",
       "      <td>35.000000</td>\n",
       "      <td>28.454545</td>\n",
       "    </tr>\n",
       "  </tbody>\n",
       "</table>\n",
       "</div>"
      ],
      "text/plain": [
       "       CRSElapsedTime       AirTime      ArrDelay      DepDelay      Distance  \\\n",
       "count    96419.000000  96419.000000  96419.000000  96419.000000  96419.000000   \n",
       "mean         0.215144      0.229707      0.385457      0.464967      0.237805   \n",
       "std          0.845323      0.866049      1.194652      1.282684      0.866427   \n",
       "min         -1.202381     -1.139241     -1.914894     -0.439024     -0.872727   \n",
       "25%         -0.416667     -0.405063     -0.319149     -0.292683     -0.407576   \n",
       "50%          0.000000      0.000000      0.000000      0.000000      0.000000   \n",
       "75%          0.583333      0.594937      0.680851      0.707317      0.592424   \n",
       "max          6.476190      6.797468     26.148936     29.609756      6.598485   \n",
       "\n",
       "             TaxiIn       TaxiOut  \n",
       "count  96419.000000  96419.000000  \n",
       "mean       0.206622      0.377418  \n",
       "std        1.298131      1.295855  \n",
       "min       -1.500000     -1.272727  \n",
       "25%       -0.500000     -0.363636  \n",
       "50%        0.000000      0.000000  \n",
       "75%        0.500000      0.636364  \n",
       "max       35.000000     28.454545  "
      ]
     },
     "execution_count": 10,
     "metadata": {},
     "output_type": "execute_result"
    }
   ],
   "source": [
    "df.describe()"
   ]
  },
  {
   "cell_type": "markdown",
   "id": "79cb07e4",
   "metadata": {},
   "source": [
    "I will apply PCA before clustering so that I can plot the results in two dimensions.\n",
    "\n",
    "- https://scikit-learn.org/stable/modules/generated/sklearn.decomposition.PCA.html"
   ]
  },
  {
   "cell_type": "code",
   "execution_count": 11,
   "id": "bd2799e7",
   "metadata": {},
   "outputs": [],
   "source": [
    "pca = PCA(n_components=4)"
   ]
  },
  {
   "cell_type": "code",
   "execution_count": 12,
   "id": "a3272aa8",
   "metadata": {
    "scrolled": false
   },
   "outputs": [
    {
     "data": {
      "text/plain": [
       "PCA(n_components=4)"
      ]
     },
     "execution_count": 12,
     "metadata": {},
     "output_type": "execute_result"
    }
   ],
   "source": [
    "pca.fit(df)"
   ]
  },
  {
   "cell_type": "code",
   "execution_count": 13,
   "id": "4c96897b",
   "metadata": {
    "scrolled": false
   },
   "outputs": [
    {
     "data": {
      "text/plain": [
       "array([0.36601569, 0.26321712, 0.18451825, 0.17961734])"
      ]
     },
     "execution_count": 13,
     "metadata": {},
     "output_type": "execute_result"
    }
   ],
   "source": [
    "pca.explained_variance_ratio_"
   ]
  },
  {
   "cell_type": "markdown",
   "id": "39a42450",
   "metadata": {},
   "source": [
    "99% of the variance of the chosen scaled features are explained with 4 principal components."
   ]
  },
  {
   "cell_type": "code",
   "execution_count": 14,
   "id": "52888b60",
   "metadata": {
    "scrolled": false
   },
   "outputs": [
    {
     "data": {
      "text/plain": [
       "0.9933684044413315"
      ]
     },
     "execution_count": 14,
     "metadata": {},
     "output_type": "execute_result"
    }
   ],
   "source": [
    "pca.explained_variance_ratio_.sum()"
   ]
  },
  {
   "cell_type": "code",
   "execution_count": 15,
   "id": "78f215cd",
   "metadata": {},
   "outputs": [
    {
     "data": {
      "text/plain": [
       "array([552.57503787, 468.59588956, 392.33863317, 387.09319983])"
      ]
     },
     "execution_count": 15,
     "metadata": {},
     "output_type": "execute_result"
    }
   ],
   "source": [
    "pca.singular_values_"
   ]
  },
  {
   "cell_type": "markdown",
   "id": "6c7f2f67",
   "metadata": {},
   "source": [
    "Principal Component 1 represents Departure Delay and Arrival Delay the most, followed by TaxiOut and TaxiIn"
   ]
  },
  {
   "cell_type": "code",
   "execution_count": 16,
   "id": "0911d418",
   "metadata": {
    "scrolled": false
   },
   "outputs": [
    {
     "data": {
      "text/plain": [
       "array([0.04257732, 0.04068829, 0.65816987, 0.67056301, 0.02985342,\n",
       "       0.19094148, 0.27629589])"
      ]
     },
     "execution_count": 16,
     "metadata": {},
     "output_type": "execute_result"
    }
   ],
   "source": [
    "pca.components_[0]"
   ]
  },
  {
   "cell_type": "markdown",
   "id": "4de6701f",
   "metadata": {},
   "source": [
    "Principal Component 2 represents AirTime, Distance, and CRSElapasedTime the most, followed by TaxiIn and TaxiOut "
   ]
  },
  {
   "cell_type": "code",
   "execution_count": 17,
   "id": "54ed4d60",
   "metadata": {},
   "outputs": [
    {
     "data": {
      "text/plain": [
       "array([ 0.5334772 ,  0.54065787, -0.10171317, -0.14690673,  0.53861977,\n",
       "        0.22880006,  0.22068814])"
      ]
     },
     "execution_count": 17,
     "metadata": {},
     "output_type": "execute_result"
    }
   ],
   "source": [
    "pca.components_[1]"
   ]
  },
  {
   "cell_type": "markdown",
   "id": "06f64ba3",
   "metadata": {},
   "source": [
    "Principal Component 3 represents TaxiIn the most"
   ]
  },
  {
   "cell_type": "code",
   "execution_count": 18,
   "id": "0d14c809",
   "metadata": {
    "scrolled": true
   },
   "outputs": [
    {
     "data": {
      "text/plain": [
       "array([-0.12842481, -0.13989397, -0.06888791, -0.13716551, -0.14436358,\n",
       "        0.95308464, -0.10566769])"
      ]
     },
     "execution_count": 18,
     "metadata": {},
     "output_type": "execute_result"
    }
   ],
   "source": [
    "pca.components_[2]"
   ]
  },
  {
   "cell_type": "markdown",
   "id": "79686719",
   "metadata": {},
   "source": [
    "Principal Component 4 represents TaxiOut the most"
   ]
  },
  {
   "cell_type": "code",
   "execution_count": 19,
   "id": "88a83ff2",
   "metadata": {
    "scrolled": false
   },
   "outputs": [
    {
     "data": {
      "text/plain": [
       "array([-0.1343035 , -0.15878324, -0.06339331, -0.28693705, -0.16899231,\n",
       "       -0.01116066,  0.91745076])"
      ]
     },
     "execution_count": 19,
     "metadata": {},
     "output_type": "execute_result"
    }
   ],
   "source": [
    "pca.components_[3]"
   ]
  },
  {
   "cell_type": "code",
   "execution_count": 21,
   "id": "30e38ebc",
   "metadata": {
    "scrolled": false
   },
   "outputs": [],
   "source": [
    "X = pca.transform(df)"
   ]
  },
  {
   "cell_type": "markdown",
   "id": "fd678a1e",
   "metadata": {},
   "source": [
    "Values of first 4 PC's for first 5 observations:"
   ]
  },
  {
   "cell_type": "code",
   "execution_count": 22,
   "id": "e3c65adf",
   "metadata": {
    "scrolled": true
   },
   "outputs": [
    {
     "data": {
      "text/html": [
       "<div>\n",
       "<style scoped>\n",
       "    .dataframe tbody tr th:only-of-type {\n",
       "        vertical-align: middle;\n",
       "    }\n",
       "\n",
       "    .dataframe tbody tr th {\n",
       "        vertical-align: top;\n",
       "    }\n",
       "\n",
       "    .dataframe thead th {\n",
       "        text-align: right;\n",
       "    }\n",
       "</style>\n",
       "<table border=\"1\" class=\"dataframe\">\n",
       "  <thead>\n",
       "    <tr style=\"text-align: right;\">\n",
       "      <th></th>\n",
       "      <th>0</th>\n",
       "      <th>1</th>\n",
       "      <th>2</th>\n",
       "      <th>3</th>\n",
       "    </tr>\n",
       "  </thead>\n",
       "  <tbody>\n",
       "    <tr>\n",
       "      <th>0</th>\n",
       "      <td>-1.238091</td>\n",
       "      <td>2.850842</td>\n",
       "      <td>-0.921972</td>\n",
       "      <td>-1.012227</td>\n",
       "    </tr>\n",
       "    <tr>\n",
       "      <th>1</th>\n",
       "      <td>-0.922183</td>\n",
       "      <td>-0.549181</td>\n",
       "      <td>0.899407</td>\n",
       "      <td>0.613874</td>\n",
       "    </tr>\n",
       "    <tr>\n",
       "      <th>2</th>\n",
       "      <td>-1.294626</td>\n",
       "      <td>-1.472463</td>\n",
       "      <td>-0.382035</td>\n",
       "      <td>0.496146</td>\n",
       "    </tr>\n",
       "    <tr>\n",
       "      <th>3</th>\n",
       "      <td>-1.149435</td>\n",
       "      <td>-0.316652</td>\n",
       "      <td>-0.687722</td>\n",
       "      <td>-0.612451</td>\n",
       "    </tr>\n",
       "    <tr>\n",
       "      <th>4</th>\n",
       "      <td>-0.947126</td>\n",
       "      <td>-0.554357</td>\n",
       "      <td>0.095276</td>\n",
       "      <td>-0.588490</td>\n",
       "    </tr>\n",
       "  </tbody>\n",
       "</table>\n",
       "</div>"
      ],
      "text/plain": [
       "          0         1         2         3\n",
       "0 -1.238091  2.850842 -0.921972 -1.012227\n",
       "1 -0.922183 -0.549181  0.899407  0.613874\n",
       "2 -1.294626 -1.472463 -0.382035  0.496146\n",
       "3 -1.149435 -0.316652 -0.687722 -0.612451\n",
       "4 -0.947126 -0.554357  0.095276 -0.588490"
      ]
     },
     "execution_count": 22,
     "metadata": {},
     "output_type": "execute_result"
    }
   ],
   "source": [
    "df_X = pd.DataFrame(X)\n",
    "df_X.head()"
   ]
  },
  {
   "cell_type": "code",
   "execution_count": 32,
   "id": "f589c40d",
   "metadata": {},
   "outputs": [],
   "source": [
    "df_X.rename(columns={0:'PC_1', 1:'PC_2', 2:'PC_3', 3:'PC_4'}, inplace=True)"
   ]
  },
  {
   "cell_type": "code",
   "execution_count": 33,
   "id": "acdfddf7",
   "metadata": {},
   "outputs": [
    {
     "data": {
      "text/plain": [
       "Index(['PC_1', 'PC_2', 'PC_3', 'PC_4'], dtype='object')"
      ]
     },
     "execution_count": 33,
     "metadata": {},
     "output_type": "execute_result"
    }
   ],
   "source": [
    "df_X.columns"
   ]
  },
  {
   "cell_type": "code",
   "execution_count": 34,
   "id": "eea3de17",
   "metadata": {},
   "outputs": [],
   "source": [
    "df_X.to_csv('flights-sampled-robustscale-PCA4.csv', index=False)"
   ]
  },
  {
   "cell_type": "markdown",
   "id": "5e12cf44",
   "metadata": {},
   "source": [
    "Summary statistics of 4 principal components:\n",
    "\n",
    "All of the components are skewed to the positive side."
   ]
  },
  {
   "cell_type": "code",
   "execution_count": 35,
   "id": "1d086226",
   "metadata": {
    "scrolled": true
   },
   "outputs": [
    {
     "data": {
      "text/html": [
       "<div>\n",
       "<style scoped>\n",
       "    .dataframe tbody tr th:only-of-type {\n",
       "        vertical-align: middle;\n",
       "    }\n",
       "\n",
       "    .dataframe tbody tr th {\n",
       "        vertical-align: top;\n",
       "    }\n",
       "\n",
       "    .dataframe thead th {\n",
       "        text-align: right;\n",
       "    }\n",
       "</style>\n",
       "<table border=\"1\" class=\"dataframe\">\n",
       "  <thead>\n",
       "    <tr style=\"text-align: right;\">\n",
       "      <th></th>\n",
       "      <th>PC_1</th>\n",
       "      <th>PC_2</th>\n",
       "      <th>PC_3</th>\n",
       "      <th>PC_4</th>\n",
       "    </tr>\n",
       "  </thead>\n",
       "  <tbody>\n",
       "    <tr>\n",
       "      <th>count</th>\n",
       "      <td>96419.000</td>\n",
       "      <td>96419.000</td>\n",
       "      <td>96419.000</td>\n",
       "      <td>96419.000</td>\n",
       "    </tr>\n",
       "    <tr>\n",
       "      <th>mean</th>\n",
       "      <td>-0.000</td>\n",
       "      <td>0.000</td>\n",
       "      <td>0.000</td>\n",
       "      <td>-0.000</td>\n",
       "    </tr>\n",
       "    <tr>\n",
       "      <th>std</th>\n",
       "      <td>1.780</td>\n",
       "      <td>1.509</td>\n",
       "      <td>1.264</td>\n",
       "      <td>1.247</td>\n",
       "    </tr>\n",
       "    <tr>\n",
       "      <th>min</th>\n",
       "      <td>-2.247</td>\n",
       "      <td>-6.683</td>\n",
       "      <td>-5.814</td>\n",
       "      <td>-9.916</td>\n",
       "    </tr>\n",
       "    <tr>\n",
       "      <th>25%</th>\n",
       "      <td>-1.087</td>\n",
       "      <td>-1.092</td>\n",
       "      <td>-0.636</td>\n",
       "      <td>-0.604</td>\n",
       "    </tr>\n",
       "    <tr>\n",
       "      <th>50%</th>\n",
       "      <td>-0.551</td>\n",
       "      <td>-0.331</td>\n",
       "      <td>-0.222</td>\n",
       "      <td>-0.189</td>\n",
       "    </tr>\n",
       "    <tr>\n",
       "      <th>75%</th>\n",
       "      <td>0.455</td>\n",
       "      <td>0.686</td>\n",
       "      <td>0.332</td>\n",
       "      <td>0.345</td>\n",
       "    </tr>\n",
       "    <tr>\n",
       "      <th>max</th>\n",
       "      <td>36.572</td>\n",
       "      <td>10.881</td>\n",
       "      <td>32.529</td>\n",
       "      <td>25.246</td>\n",
       "    </tr>\n",
       "  </tbody>\n",
       "</table>\n",
       "</div>"
      ],
      "text/plain": [
       "            PC_1       PC_2       PC_3       PC_4\n",
       "count  96419.000  96419.000  96419.000  96419.000\n",
       "mean      -0.000      0.000      0.000     -0.000\n",
       "std        1.780      1.509      1.264      1.247\n",
       "min       -2.247     -6.683     -5.814     -9.916\n",
       "25%       -1.087     -1.092     -0.636     -0.604\n",
       "50%       -0.551     -0.331     -0.222     -0.189\n",
       "75%        0.455      0.686      0.332      0.345\n",
       "max       36.572     10.881     32.529     25.246"
      ]
     },
     "execution_count": 35,
     "metadata": {},
     "output_type": "execute_result"
    }
   ],
   "source": [
    "round(df_X.describe(),3)"
   ]
  },
  {
   "cell_type": "code",
   "execution_count": 36,
   "id": "7b192aa9",
   "metadata": {},
   "outputs": [],
   "source": [
    "def plotComponents(df, x, y):\n",
    "    plt.scatter(df[x], df[y], alpha=.1, color='black')\n",
    "    plt.xlabel(x)\n",
    "    plt.ylabel(y)\n",
    "    plt.show()"
   ]
  },
  {
   "cell_type": "code",
   "execution_count": 37,
   "id": "965857a4",
   "metadata": {
    "scrolled": true
   },
   "outputs": [
    {
     "data": {
      "image/png": "[encoded data removed]",
      "text/plain": [
       "<Figure size 432x288 with 1 Axes>"
      ]
     },
     "metadata": {
      "needs_background": "light"
     },
     "output_type": "display_data"
    }
   ],
   "source": [
    "plotComponents(df_X, 'PC_1','PC_2')"
   ]
  },
  {
   "cell_type": "code",
   "execution_count": 38,
   "id": "a622899a",
   "metadata": {},
   "outputs": [
    {
     "data": {
      "image/png": "[encoded data removed]",
      "text/plain": [
       "<Figure size 432x288 with 1 Axes>"
      ]
     },
     "metadata": {
      "needs_background": "light"
     },
     "output_type": "display_data"
    }
   ],
   "source": [
    "plotComponents(df_X, 'PC_1','PC_3')"
   ]
  },
  {
   "cell_type": "code",
   "execution_count": 39,
   "id": "e2060066",
   "metadata": {
    "scrolled": true
   },
   "outputs": [
    {
     "data": {
      "image/png": "[encoded data removed]",
      "text/plain": [
       "<Figure size 432x288 with 1 Axes>"
      ]
     },
     "metadata": {
      "needs_background": "light"
     },
     "output_type": "display_data"
    }
   ],
   "source": [
    "plotComponents(df_X, 'PC_1','PC_4')"
   ]
  },
  {
   "cell_type": "code",
   "execution_count": 40,
   "id": "f7db3c75",
   "metadata": {
    "scrolled": true
   },
   "outputs": [
    {
     "data": {
      "image/png": "[encoded data removed]",
      "text/plain": [
       "<Figure size 432x288 with 1 Axes>"
      ]
     },
     "metadata": {
      "needs_background": "light"
     },
     "output_type": "display_data"
    }
   ],
   "source": [
    "plotComponents(df_X, 'PC_2','PC_3')"
   ]
  },
  {
   "cell_type": "code",
   "execution_count": 41,
   "id": "5b0784ce",
   "metadata": {},
   "outputs": [
    {
     "data": {
      "image/png": "[encoded data removed]",
      "text/plain": [
       "<Figure size 432x288 with 1 Axes>"
      ]
     },
     "metadata": {
      "needs_background": "light"
     },
     "output_type": "display_data"
    }
   ],
   "source": [
    "plotComponents(df_X, 'PC_2','PC_4')"
   ]
  },
  {
   "cell_type": "code",
   "execution_count": 42,
   "id": "59106b9e",
   "metadata": {},
   "outputs": [
    {
     "data": {
      "image/png": "[encoded data removed]",
      "text/plain": [
       "<Figure size 432x288 with 1 Axes>"
      ]
     },
     "metadata": {
      "needs_background": "light"
     },
     "output_type": "display_data"
    }
   ],
   "source": [
    "plotComponents(df_X, 'PC_3','PC_4')"
   ]
  }
 ],
 "metadata": {
  "kernelspec": {
   "display_name": "Python 3 (ipykernel)",
   "language": "python",
   "name": "python3"
  },
  "language_info": {
   "codemirror_mode": {
    "name": "ipython",
    "version": 3
   },
   "file_extension": ".py",
   "mimetype": "text/x-python",
   "name": "python",
   "nbconvert_exporter": "python",
   "pygments_lexer": "ipython3",
   "version": "3.8.8"
  },
  "nbTranslate": {
   "displayLangs": [
    "es",
    "en"
   ],
   "hotkey": "alt-t",
   "langInMainMenu": true,
   "sourceLang": "en",
   "targetLang": "es",
   "useGoogleTranslate": true
  },
  "varInspector": {
   "cols": {
    "lenName": 16,
    "lenType": 16,
    "lenVar": 40
   },
   "kernels_config": {
    "python": {
     "delete_cmd_postfix": "",
     "delete_cmd_prefix": "del ",
     "library": "var_list.py",
     "varRefreshCmd": "print(var_dic_list())"
    },
    "r": {
     "delete_cmd_postfix": ") ",
     "delete_cmd_prefix": "rm(",
     "library": "var_list.r",
     "varRefreshCmd": "cat(var_dic_list()) "
    }
   },
   "types_to_exclude": [
    "module",
    "function",
    "builtin_function_or_method",
    "instance",
    "_Feature"
   ],
   "window_display": false
  }
 },
 "nbformat": 4,
 "nbformat_minor": 5
}
