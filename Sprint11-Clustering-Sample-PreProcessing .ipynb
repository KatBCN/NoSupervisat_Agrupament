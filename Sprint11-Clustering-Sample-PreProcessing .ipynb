{
 "cells": [
  {
   "cell_type": "markdown",
   "id": "98b21b19",
   "metadata": {},
   "source": [
    "# <font color='#d50283'>IT Academy - Data Science Itinerary</font>\n",
    "## Sprint 11 Task 1 - Clustering - PreProcessing\n",
    "### Assignment by: Kat Weissman\n",
    "\n",
    "#### General objective:\n",
    "\n",
    "- Become familiar with clustering algorithms.\n",
    "\n",
    "#### Python Learning Objectives:\n",
    "- K Means\n",
    "- Hierarchical clustering"
   ]
  },
  {
   "cell_type": "markdown",
   "id": "6ce01116",
   "metadata": {},
   "source": [
    "*Recommended learning resources:*\n",
    "- https://towardsdatascience.com/the-5-clustering-algorithms-data-scientists-need-to-know-a36d136ef68\n",
    "- https://realpython.com/k-means-clustering-python/\n",
    "- https://towardsdatascience.com/pca-using-python-scikit-learn-e653f8989e60\n",
    "- https://jakevdp.github.io/PythonDataScienceHandbook/05.09-principal-component-analysis.html\n",
    "- https://towardsdatascience.com/machine-learning-algorithms-part-12-hierarchical-agglomerative-clustering-example-in-python-1e18e0075019\n",
    "- https://www.analyticsvidhya.com/blog/2019/05/beginners-guide-hierarchical-clustering/\n"
   ]
  },
  {
   "cell_type": "code",
   "execution_count": 1,
   "id": "932e69da",
   "metadata": {
    "ExecuteTime": {
     "end_time": "2021-07-22T10:31:49.600112Z",
     "start_time": "2021-07-22T10:31:49.590900Z"
    }
   },
   "outputs": [],
   "source": [
    "#Import libraries\n",
    "import numpy as np\n",
    "import pandas as pd\n",
    "import matplotlib.pyplot as plt\n",
    "import seaborn as sns\n",
    "from sklearn.decomposition import PCA\n",
    "from sklearn.cluster import KMeans\n",
    "from sklearn.cluster import MiniBatchKMeans\n",
    "from sklearn.metrics import silhouette_score\n",
    "from sklearn.preprocessing import StandardScaler\n",
    "from sklearn.preprocessing import RobustScaler"
   ]
  },
  {
   "cell_type": "markdown",
   "id": "a328a38d",
   "metadata": {},
   "source": [
    "### Level 1\n",
    "### Exercise 1 \n",
    "Group the different flights using the K-means algorithm."
   ]
  },
  {
   "cell_type": "code",
   "execution_count": 2,
   "id": "6e0f87d6",
   "metadata": {},
   "outputs": [],
   "source": [
    "pd.set_option('display.max_columns', None)  #set display to show all columns"
   ]
  },
  {
   "cell_type": "markdown",
   "id": "fa438a01",
   "metadata": {},
   "source": [
    "I will load the data which I pre-processed and sampled in a different notebook.\n",
    "\n",
    "- https://github.com/KatBCN/Supervisat_Classificacio/blob/main/Sprint%2010%20-%20Classification%20Model%20-%20Pre-Processing.ipynb"
   ]
  },
  {
   "cell_type": "code",
   "execution_count": 3,
   "id": "276e8c30",
   "metadata": {},
   "outputs": [],
   "source": [
    "# load data\n",
    "data_link = 'https://github.com/KatBCN/Supervisat_Classificacio/blob/main/flights-processed-sampled.pkl.bz2?raw=true'\n",
    "df = pd.read_pickle(data_link,compression='bz2')"
   ]
  },
  {
   "cell_type": "markdown",
   "id": "0930e7af",
   "metadata": {},
   "source": [
    "#### Data Exploration"
   ]
  },
  {
   "cell_type": "code",
   "execution_count": 4,
   "id": "676b7b91",
   "metadata": {},
   "outputs": [
    {
     "data": {
      "text/plain": [
       "(96419, 33)"
      ]
     },
     "execution_count": 4,
     "metadata": {},
     "output_type": "execute_result"
    }
   ],
   "source": [
    "# Show number of rows and columns in dataframe\n",
    "df.shape"
   ]
  },
  {
   "cell_type": "code",
   "execution_count": 5,
   "id": "fe56a352",
   "metadata": {
    "scrolled": false
   },
   "outputs": [
    {
     "data": {
      "text/plain": [
       "Unnamed: 0                  int64\n",
       "Year                       object\n",
       "Month                      object\n",
       "DayofMonth                 object\n",
       "DayOfWeek                  object\n",
       "DepTime                   float64\n",
       "CRSDepTime                  int64\n",
       "ArrTime                   float64\n",
       "CRSArrTime                  int64\n",
       "UniqueCarrier              object\n",
       "FlightNum                  object\n",
       "TailNum                    object\n",
       "ActualElapsedTime         float64\n",
       "CRSElapsedTime            float64\n",
       "AirTime                   float64\n",
       "ArrDelay                  float64\n",
       "DepDelay                  float64\n",
       "Origin                     object\n",
       "Dest                       object\n",
       "Distance                    int64\n",
       "TaxiIn                    float64\n",
       "TaxiOut                   float64\n",
       "Cancelled                  object\n",
       "CancellationCode           object\n",
       "Diverted                   object\n",
       "CarrierDelay              float64\n",
       "WeatherDelay              float64\n",
       "NASDelay                  float64\n",
       "SecurityDelay             float64\n",
       "LateAircraftDelay         float64\n",
       "SumDelay                  float64\n",
       "Diff_SumDelay_DepDelay    float64\n",
       "Delayed                    object\n",
       "dtype: object"
      ]
     },
     "execution_count": 5,
     "metadata": {},
     "output_type": "execute_result"
    }
   ],
   "source": [
    "# Show column names and dtypes\n",
    "df.dtypes"
   ]
  },
  {
   "cell_type": "code",
   "execution_count": 6,
   "id": "da2379e4",
   "metadata": {
    "scrolled": true
   },
   "outputs": [
    {
     "data": {
      "text/html": [
       "<div>\n",
       "<style scoped>\n",
       "    .dataframe tbody tr th:only-of-type {\n",
       "        vertical-align: middle;\n",
       "    }\n",
       "\n",
       "    .dataframe tbody tr th {\n",
       "        vertical-align: top;\n",
       "    }\n",
       "\n",
       "    .dataframe thead th {\n",
       "        text-align: right;\n",
       "    }\n",
       "</style>\n",
       "<table border=\"1\" class=\"dataframe\">\n",
       "  <thead>\n",
       "    <tr style=\"text-align: right;\">\n",
       "      <th></th>\n",
       "      <th>Unnamed: 0</th>\n",
       "      <th>Year</th>\n",
       "      <th>Month</th>\n",
       "      <th>DayofMonth</th>\n",
       "      <th>DayOfWeek</th>\n",
       "      <th>DepTime</th>\n",
       "      <th>CRSDepTime</th>\n",
       "      <th>ArrTime</th>\n",
       "      <th>CRSArrTime</th>\n",
       "      <th>UniqueCarrier</th>\n",
       "      <th>FlightNum</th>\n",
       "      <th>TailNum</th>\n",
       "      <th>ActualElapsedTime</th>\n",
       "      <th>CRSElapsedTime</th>\n",
       "      <th>AirTime</th>\n",
       "      <th>ArrDelay</th>\n",
       "      <th>DepDelay</th>\n",
       "      <th>Origin</th>\n",
       "      <th>Dest</th>\n",
       "      <th>Distance</th>\n",
       "      <th>TaxiIn</th>\n",
       "      <th>TaxiOut</th>\n",
       "      <th>Cancelled</th>\n",
       "      <th>CancellationCode</th>\n",
       "      <th>Diverted</th>\n",
       "      <th>CarrierDelay</th>\n",
       "      <th>WeatherDelay</th>\n",
       "      <th>NASDelay</th>\n",
       "      <th>SecurityDelay</th>\n",
       "      <th>LateAircraftDelay</th>\n",
       "      <th>SumDelay</th>\n",
       "      <th>Diff_SumDelay_DepDelay</th>\n",
       "      <th>Delayed</th>\n",
       "    </tr>\n",
       "  </thead>\n",
       "  <tbody>\n",
       "    <tr>\n",
       "      <th>1098428</th>\n",
       "      <td>3654724</td>\n",
       "      <td>2008</td>\n",
       "      <td>7</td>\n",
       "      <td>18</td>\n",
       "      <td>5</td>\n",
       "      <td>1511.0</td>\n",
       "      <td>1505</td>\n",
       "      <td>1740.0</td>\n",
       "      <td>1740</td>\n",
       "      <td>WN</td>\n",
       "      <td>1418</td>\n",
       "      <td>N452WN</td>\n",
       "      <td>269.0</td>\n",
       "      <td>275.0</td>\n",
       "      <td>252.0</td>\n",
       "      <td>0.0</td>\n",
       "      <td>6.0</td>\n",
       "      <td>BNA</td>\n",
       "      <td>OAK</td>\n",
       "      <td>1959</td>\n",
       "      <td>5.0</td>\n",
       "      <td>12.0</td>\n",
       "      <td>0</td>\n",
       "      <td>N</td>\n",
       "      <td>0</td>\n",
       "      <td>NaN</td>\n",
       "      <td>NaN</td>\n",
       "      <td>NaN</td>\n",
       "      <td>NaN</td>\n",
       "      <td>NaN</td>\n",
       "      <td>NaN</td>\n",
       "      <td>NaN</td>\n",
       "      <td>0</td>\n",
       "    </tr>\n",
       "    <tr>\n",
       "      <th>112686</th>\n",
       "      <td>361246</td>\n",
       "      <td>2008</td>\n",
       "      <td>1</td>\n",
       "      <td>11</td>\n",
       "      <td>5</td>\n",
       "      <td>1736.0</td>\n",
       "      <td>1730</td>\n",
       "      <td>1913.0</td>\n",
       "      <td>1858</td>\n",
       "      <td>FL</td>\n",
       "      <td>327</td>\n",
       "      <td>N955AT</td>\n",
       "      <td>97.0</td>\n",
       "      <td>88.0</td>\n",
       "      <td>69.0</td>\n",
       "      <td>15.0</td>\n",
       "      <td>6.0</td>\n",
       "      <td>BOS</td>\n",
       "      <td>BWI</td>\n",
       "      <td>370</td>\n",
       "      <td>9.0</td>\n",
       "      <td>19.0</td>\n",
       "      <td>0</td>\n",
       "      <td>N</td>\n",
       "      <td>0</td>\n",
       "      <td>6.0</td>\n",
       "      <td>0.0</td>\n",
       "      <td>9.0</td>\n",
       "      <td>0.0</td>\n",
       "      <td>0.0</td>\n",
       "      <td>15.0</td>\n",
       "      <td>9.0</td>\n",
       "      <td>1</td>\n",
       "    </tr>\n",
       "    <tr>\n",
       "      <th>599454</th>\n",
       "      <td>1878648</td>\n",
       "      <td>2008</td>\n",
       "      <td>4</td>\n",
       "      <td>29</td>\n",
       "      <td>2</td>\n",
       "      <td>1611.0</td>\n",
       "      <td>1600</td>\n",
       "      <td>1711.0</td>\n",
       "      <td>1700</td>\n",
       "      <td>WN</td>\n",
       "      <td>884</td>\n",
       "      <td>N241WN</td>\n",
       "      <td>60.0</td>\n",
       "      <td>60.0</td>\n",
       "      <td>41.0</td>\n",
       "      <td>11.0</td>\n",
       "      <td>11.0</td>\n",
       "      <td>ONT</td>\n",
       "      <td>LAS</td>\n",
       "      <td>197</td>\n",
       "      <td>3.0</td>\n",
       "      <td>16.0</td>\n",
       "      <td>0</td>\n",
       "      <td>N</td>\n",
       "      <td>0</td>\n",
       "      <td>NaN</td>\n",
       "      <td>NaN</td>\n",
       "      <td>NaN</td>\n",
       "      <td>NaN</td>\n",
       "      <td>NaN</td>\n",
       "      <td>NaN</td>\n",
       "      <td>NaN</td>\n",
       "      <td>1</td>\n",
       "    </tr>\n",
       "    <tr>\n",
       "      <th>743117</th>\n",
       "      <td>2434787</td>\n",
       "      <td>2008</td>\n",
       "      <td>5</td>\n",
       "      <td>16</td>\n",
       "      <td>5</td>\n",
       "      <td>1551.0</td>\n",
       "      <td>1535</td>\n",
       "      <td>1803.0</td>\n",
       "      <td>1740</td>\n",
       "      <td>WN</td>\n",
       "      <td>1564</td>\n",
       "      <td>N718SW</td>\n",
       "      <td>132.0</td>\n",
       "      <td>125.0</td>\n",
       "      <td>121.0</td>\n",
       "      <td>23.0</td>\n",
       "      <td>16.0</td>\n",
       "      <td>STL</td>\n",
       "      <td>HOU</td>\n",
       "      <td>687</td>\n",
       "      <td>3.0</td>\n",
       "      <td>8.0</td>\n",
       "      <td>0</td>\n",
       "      <td>N</td>\n",
       "      <td>0</td>\n",
       "      <td>0.0</td>\n",
       "      <td>0.0</td>\n",
       "      <td>7.0</td>\n",
       "      <td>0.0</td>\n",
       "      <td>16.0</td>\n",
       "      <td>23.0</td>\n",
       "      <td>7.0</td>\n",
       "      <td>1</td>\n",
       "    </tr>\n",
       "    <tr>\n",
       "      <th>581400</th>\n",
       "      <td>1812607</td>\n",
       "      <td>2008</td>\n",
       "      <td>4</td>\n",
       "      <td>9</td>\n",
       "      <td>3</td>\n",
       "      <td>1754.0</td>\n",
       "      <td>1725</td>\n",
       "      <td>1834.0</td>\n",
       "      <td>1820</td>\n",
       "      <td>WN</td>\n",
       "      <td>2284</td>\n",
       "      <td>N686SW</td>\n",
       "      <td>100.0</td>\n",
       "      <td>115.0</td>\n",
       "      <td>86.0</td>\n",
       "      <td>14.0</td>\n",
       "      <td>29.0</td>\n",
       "      <td>SLC</td>\n",
       "      <td>LAX</td>\n",
       "      <td>590</td>\n",
       "      <td>6.0</td>\n",
       "      <td>8.0</td>\n",
       "      <td>0</td>\n",
       "      <td>N</td>\n",
       "      <td>0</td>\n",
       "      <td>NaN</td>\n",
       "      <td>NaN</td>\n",
       "      <td>NaN</td>\n",
       "      <td>NaN</td>\n",
       "      <td>NaN</td>\n",
       "      <td>NaN</td>\n",
       "      <td>NaN</td>\n",
       "      <td>1</td>\n",
       "    </tr>\n",
       "  </tbody>\n",
       "</table>\n",
       "</div>"
      ],
      "text/plain": [
       "         Unnamed: 0  Year Month DayofMonth DayOfWeek  DepTime  CRSDepTime  \\\n",
       "1098428     3654724  2008     7         18         5   1511.0        1505   \n",
       "112686       361246  2008     1         11         5   1736.0        1730   \n",
       "599454      1878648  2008     4         29         2   1611.0        1600   \n",
       "743117      2434787  2008     5         16         5   1551.0        1535   \n",
       "581400      1812607  2008     4          9         3   1754.0        1725   \n",
       "\n",
       "         ArrTime  CRSArrTime UniqueCarrier FlightNum TailNum  \\\n",
       "1098428   1740.0        1740            WN      1418  N452WN   \n",
       "112686    1913.0        1858            FL       327  N955AT   \n",
       "599454    1711.0        1700            WN       884  N241WN   \n",
       "743117    1803.0        1740            WN      1564  N718SW   \n",
       "581400    1834.0        1820            WN      2284  N686SW   \n",
       "\n",
       "         ActualElapsedTime  CRSElapsedTime  AirTime  ArrDelay  DepDelay  \\\n",
       "1098428              269.0           275.0    252.0       0.0       6.0   \n",
       "112686                97.0            88.0     69.0      15.0       6.0   \n",
       "599454                60.0            60.0     41.0      11.0      11.0   \n",
       "743117               132.0           125.0    121.0      23.0      16.0   \n",
       "581400               100.0           115.0     86.0      14.0      29.0   \n",
       "\n",
       "        Origin Dest  Distance  TaxiIn  TaxiOut Cancelled CancellationCode  \\\n",
       "1098428    BNA  OAK      1959     5.0     12.0         0                N   \n",
       "112686     BOS  BWI       370     9.0     19.0         0                N   \n",
       "599454     ONT  LAS       197     3.0     16.0         0                N   \n",
       "743117     STL  HOU       687     3.0      8.0         0                N   \n",
       "581400     SLC  LAX       590     6.0      8.0         0                N   \n",
       "\n",
       "        Diverted  CarrierDelay  WeatherDelay  NASDelay  SecurityDelay  \\\n",
       "1098428        0           NaN           NaN       NaN            NaN   \n",
       "112686         0           6.0           0.0       9.0            0.0   \n",
       "599454         0           NaN           NaN       NaN            NaN   \n",
       "743117         0           0.0           0.0       7.0            0.0   \n",
       "581400         0           NaN           NaN       NaN            NaN   \n",
       "\n",
       "         LateAircraftDelay  SumDelay  Diff_SumDelay_DepDelay Delayed  \n",
       "1098428                NaN       NaN                     NaN       0  \n",
       "112686                 0.0      15.0                     9.0       1  \n",
       "599454                 NaN       NaN                     NaN       1  \n",
       "743117                16.0      23.0                     7.0       1  \n",
       "581400                 NaN       NaN                     NaN       1  "
      ]
     },
     "execution_count": 6,
     "metadata": {},
     "output_type": "execute_result"
    }
   ],
   "source": [
    "# Display first 5 rows of dataframe\n",
    "df.head(5)"
   ]
  },
  {
   "cell_type": "code",
   "execution_count": 7,
   "id": "a2dec1f7",
   "metadata": {},
   "outputs": [
    {
     "data": {
      "text/plain": [
       "0"
      ]
     },
     "execution_count": 7,
     "metadata": {},
     "output_type": "execute_result"
    }
   ],
   "source": [
    "# Check for duplicates\n",
    "sum(df.duplicated())"
   ]
  },
  {
   "cell_type": "code",
   "execution_count": 8,
   "id": "f9fb461c",
   "metadata": {
    "scrolled": true
   },
   "outputs": [
    {
     "data": {
      "text/plain": [
       "Unnamed: 0                    0\n",
       "Year                          0\n",
       "Month                         0\n",
       "DayofMonth                    0\n",
       "DayOfWeek                     0\n",
       "DepTime                       0\n",
       "CRSDepTime                    0\n",
       "ArrTime                       0\n",
       "CRSArrTime                    0\n",
       "UniqueCarrier                 0\n",
       "FlightNum                     0\n",
       "TailNum                       0\n",
       "ActualElapsedTime             0\n",
       "CRSElapsedTime                0\n",
       "AirTime                       0\n",
       "ArrDelay                      0\n",
       "DepDelay                      0\n",
       "Origin                        0\n",
       "Dest                          0\n",
       "Distance                      0\n",
       "TaxiIn                        0\n",
       "TaxiOut                       0\n",
       "Cancelled                     0\n",
       "CancellationCode              0\n",
       "Diverted                      0\n",
       "CarrierDelay              33942\n",
       "WeatherDelay              33942\n",
       "NASDelay                  33942\n",
       "SecurityDelay             33942\n",
       "LateAircraftDelay         33942\n",
       "SumDelay                  33942\n",
       "Diff_SumDelay_DepDelay    33942\n",
       "Delayed                       0\n",
       "dtype: int64"
      ]
     },
     "execution_count": 8,
     "metadata": {},
     "output_type": "execute_result"
    }
   ],
   "source": [
    "# Check for NA values\n",
    "df.isna().sum()"
   ]
  },
  {
   "cell_type": "markdown",
   "id": "f043ceda",
   "metadata": {},
   "source": [
    "We start by subsetting only the numerical features that don't have NAs to use with the K Means Algorithm."
   ]
  },
  {
   "cell_type": "code",
   "execution_count": 9,
   "id": "8e2d94b3",
   "metadata": {},
   "outputs": [],
   "source": [
    "numeric = ['CRSElapsedTime', 'AirTime', 'ArrDelay', 'DepDelay', 'Distance', 'TaxiIn', 'TaxiOut']"
   ]
  },
  {
   "cell_type": "code",
   "execution_count": 10,
   "id": "1a81f5de",
   "metadata": {},
   "outputs": [],
   "source": [
    "num_df = df[numeric]"
   ]
  },
  {
   "cell_type": "code",
   "execution_count": 11,
   "id": "dc49ca77",
   "metadata": {
    "scrolled": true
   },
   "outputs": [
    {
     "data": {
      "text/html": [
       "<div>\n",
       "<style scoped>\n",
       "    .dataframe tbody tr th:only-of-type {\n",
       "        vertical-align: middle;\n",
       "    }\n",
       "\n",
       "    .dataframe tbody tr th {\n",
       "        vertical-align: top;\n",
       "    }\n",
       "\n",
       "    .dataframe thead th {\n",
       "        text-align: right;\n",
       "    }\n",
       "</style>\n",
       "<table border=\"1\" class=\"dataframe\">\n",
       "  <thead>\n",
       "    <tr style=\"text-align: right;\">\n",
       "      <th></th>\n",
       "      <th>CRSElapsedTime</th>\n",
       "      <th>AirTime</th>\n",
       "      <th>ArrDelay</th>\n",
       "      <th>DepDelay</th>\n",
       "      <th>Distance</th>\n",
       "      <th>TaxiIn</th>\n",
       "      <th>TaxiOut</th>\n",
       "    </tr>\n",
       "  </thead>\n",
       "  <tbody>\n",
       "    <tr>\n",
       "      <th>1098428</th>\n",
       "      <td>275.0</td>\n",
       "      <td>252.0</td>\n",
       "      <td>0.0</td>\n",
       "      <td>6.0</td>\n",
       "      <td>1959</td>\n",
       "      <td>5.0</td>\n",
       "      <td>12.0</td>\n",
       "    </tr>\n",
       "    <tr>\n",
       "      <th>112686</th>\n",
       "      <td>88.0</td>\n",
       "      <td>69.0</td>\n",
       "      <td>15.0</td>\n",
       "      <td>6.0</td>\n",
       "      <td>370</td>\n",
       "      <td>9.0</td>\n",
       "      <td>19.0</td>\n",
       "    </tr>\n",
       "    <tr>\n",
       "      <th>599454</th>\n",
       "      <td>60.0</td>\n",
       "      <td>41.0</td>\n",
       "      <td>11.0</td>\n",
       "      <td>11.0</td>\n",
       "      <td>197</td>\n",
       "      <td>3.0</td>\n",
       "      <td>16.0</td>\n",
       "    </tr>\n",
       "    <tr>\n",
       "      <th>743117</th>\n",
       "      <td>125.0</td>\n",
       "      <td>121.0</td>\n",
       "      <td>23.0</td>\n",
       "      <td>16.0</td>\n",
       "      <td>687</td>\n",
       "      <td>3.0</td>\n",
       "      <td>8.0</td>\n",
       "    </tr>\n",
       "    <tr>\n",
       "      <th>581400</th>\n",
       "      <td>115.0</td>\n",
       "      <td>86.0</td>\n",
       "      <td>14.0</td>\n",
       "      <td>29.0</td>\n",
       "      <td>590</td>\n",
       "      <td>6.0</td>\n",
       "      <td>8.0</td>\n",
       "    </tr>\n",
       "  </tbody>\n",
       "</table>\n",
       "</div>"
      ],
      "text/plain": [
       "         CRSElapsedTime  AirTime  ArrDelay  DepDelay  Distance  TaxiIn  \\\n",
       "1098428           275.0    252.0       0.0       6.0      1959     5.0   \n",
       "112686             88.0     69.0      15.0       6.0       370     9.0   \n",
       "599454             60.0     41.0      11.0      11.0       197     3.0   \n",
       "743117            125.0    121.0      23.0      16.0       687     3.0   \n",
       "581400            115.0     86.0      14.0      29.0       590     6.0   \n",
       "\n",
       "         TaxiOut  \n",
       "1098428     12.0  \n",
       "112686      19.0  \n",
       "599454      16.0  \n",
       "743117       8.0  \n",
       "581400       8.0  "
      ]
     },
     "execution_count": 11,
     "metadata": {},
     "output_type": "execute_result"
    }
   ],
   "source": [
    "num_df.head()"
   ]
  },
  {
   "cell_type": "markdown",
   "id": "de26b573",
   "metadata": {},
   "source": [
    "\"Machine learning algorithms need to consider all features on an even playing field. That means the values for all features must be transformed to the same scale.\n",
    "\n",
    "The process of transforming numerical features to use the same scale is known as feature scaling. It’s an important data preprocessing step for most distance-based machine learning algorithms because it can have a significant impact on the performance of your algorithm.\" - https://realpython.com/k-means-clustering-python/"
   ]
  },
  {
   "cell_type": "markdown",
   "id": "05a66639",
   "metadata": {},
   "source": [
    "I will use scikit learn's robust scaler for this dataset before clustering.\n",
    "\n",
    "- https://scikit-learn.org/stable/modules/generated/sklearn.preprocessing.RobustScaler.html\n",
    "\n",
    "\"Standardization of a dataset is a common requirement for many machine learning estimators. Typically this is done by removing the mean and scaling to unit variance. However, outliers can often influence the sample mean / variance in a negative way. In such cases, the median and the interquartile range often give better results.\"\n"
   ]
  },
  {
   "cell_type": "code",
   "execution_count": 12,
   "id": "88fffbb6",
   "metadata": {},
   "outputs": [],
   "source": [
    "scaler = RobustScaler()\n",
    "scaled_features = scaler.fit_transform(num_df)"
   ]
  },
  {
   "cell_type": "code",
   "execution_count": 13,
   "id": "512abe7d",
   "metadata": {},
   "outputs": [],
   "source": [
    "df_scaled_features = pd.DataFrame(scaled_features, columns = numeric)"
   ]
  },
  {
   "cell_type": "code",
   "execution_count": 14,
   "id": "6b0401dc",
   "metadata": {
    "scrolled": true
   },
   "outputs": [
    {
     "data": {
      "text/html": [
       "<div>\n",
       "<style scoped>\n",
       "    .dataframe tbody tr th:only-of-type {\n",
       "        vertical-align: middle;\n",
       "    }\n",
       "\n",
       "    .dataframe tbody tr th {\n",
       "        vertical-align: top;\n",
       "    }\n",
       "\n",
       "    .dataframe thead th {\n",
       "        text-align: right;\n",
       "    }\n",
       "</style>\n",
       "<table border=\"1\" class=\"dataframe\">\n",
       "  <thead>\n",
       "    <tr style=\"text-align: right;\">\n",
       "      <th></th>\n",
       "      <th>CRSElapsedTime</th>\n",
       "      <th>AirTime</th>\n",
       "      <th>ArrDelay</th>\n",
       "      <th>DepDelay</th>\n",
       "      <th>Distance</th>\n",
       "      <th>TaxiIn</th>\n",
       "      <th>TaxiOut</th>\n",
       "    </tr>\n",
       "  </thead>\n",
       "  <tbody>\n",
       "    <tr>\n",
       "      <th>0</th>\n",
       "      <td>1.892857</td>\n",
       "      <td>2.050633</td>\n",
       "      <td>-0.510638</td>\n",
       "      <td>-0.439024</td>\n",
       "      <td>2.048485</td>\n",
       "      <td>-0.25</td>\n",
       "      <td>-0.181818</td>\n",
       "    </tr>\n",
       "    <tr>\n",
       "      <th>1</th>\n",
       "      <td>-0.333333</td>\n",
       "      <td>-0.265823</td>\n",
       "      <td>-0.191489</td>\n",
       "      <td>-0.439024</td>\n",
       "      <td>-0.359091</td>\n",
       "      <td>0.75</td>\n",
       "      <td>0.454545</td>\n",
       "    </tr>\n",
       "    <tr>\n",
       "      <th>2</th>\n",
       "      <td>-0.666667</td>\n",
       "      <td>-0.620253</td>\n",
       "      <td>-0.276596</td>\n",
       "      <td>-0.317073</td>\n",
       "      <td>-0.621212</td>\n",
       "      <td>-0.75</td>\n",
       "      <td>0.181818</td>\n",
       "    </tr>\n",
       "    <tr>\n",
       "      <th>3</th>\n",
       "      <td>0.107143</td>\n",
       "      <td>0.392405</td>\n",
       "      <td>-0.021277</td>\n",
       "      <td>-0.195122</td>\n",
       "      <td>0.121212</td>\n",
       "      <td>-0.75</td>\n",
       "      <td>-0.545455</td>\n",
       "    </tr>\n",
       "    <tr>\n",
       "      <th>4</th>\n",
       "      <td>-0.011905</td>\n",
       "      <td>-0.050633</td>\n",
       "      <td>-0.212766</td>\n",
       "      <td>0.121951</td>\n",
       "      <td>-0.025758</td>\n",
       "      <td>0.00</td>\n",
       "      <td>-0.545455</td>\n",
       "    </tr>\n",
       "  </tbody>\n",
       "</table>\n",
       "</div>"
      ],
      "text/plain": [
       "   CRSElapsedTime   AirTime  ArrDelay  DepDelay  Distance  TaxiIn   TaxiOut\n",
       "0        1.892857  2.050633 -0.510638 -0.439024  2.048485   -0.25 -0.181818\n",
       "1       -0.333333 -0.265823 -0.191489 -0.439024 -0.359091    0.75  0.454545\n",
       "2       -0.666667 -0.620253 -0.276596 -0.317073 -0.621212   -0.75  0.181818\n",
       "3        0.107143  0.392405 -0.021277 -0.195122  0.121212   -0.75 -0.545455\n",
       "4       -0.011905 -0.050633 -0.212766  0.121951 -0.025758    0.00 -0.545455"
      ]
     },
     "execution_count": 14,
     "metadata": {},
     "output_type": "execute_result"
    }
   ],
   "source": [
    "df_scaled_features.head()"
   ]
  },
  {
   "cell_type": "code",
   "execution_count": 15,
   "id": "19150ab7",
   "metadata": {
    "scrolled": true
   },
   "outputs": [
    {
     "data": {
      "text/plain": [
       "(96419, 7)"
      ]
     },
     "execution_count": 15,
     "metadata": {},
     "output_type": "execute_result"
    }
   ],
   "source": [
    "df_scaled_features.shape"
   ]
  },
  {
   "cell_type": "code",
   "execution_count": 17,
   "id": "e9aa58b2",
   "metadata": {
    "scrolled": false
   },
   "outputs": [
    {
     "data": {
      "text/html": [
       "<div>\n",
       "<style scoped>\n",
       "    .dataframe tbody tr th:only-of-type {\n",
       "        vertical-align: middle;\n",
       "    }\n",
       "\n",
       "    .dataframe tbody tr th {\n",
       "        vertical-align: top;\n",
       "    }\n",
       "\n",
       "    .dataframe thead th {\n",
       "        text-align: right;\n",
       "    }\n",
       "</style>\n",
       "<table border=\"1\" class=\"dataframe\">\n",
       "  <thead>\n",
       "    <tr style=\"text-align: right;\">\n",
       "      <th></th>\n",
       "      <th>CRSElapsedTime</th>\n",
       "      <th>AirTime</th>\n",
       "      <th>ArrDelay</th>\n",
       "      <th>DepDelay</th>\n",
       "      <th>Distance</th>\n",
       "      <th>TaxiIn</th>\n",
       "      <th>TaxiOut</th>\n",
       "    </tr>\n",
       "  </thead>\n",
       "  <tbody>\n",
       "    <tr>\n",
       "      <th>count</th>\n",
       "      <td>96419.000000</td>\n",
       "      <td>96419.000000</td>\n",
       "      <td>96419.000000</td>\n",
       "      <td>96419.000000</td>\n",
       "      <td>96419.000000</td>\n",
       "      <td>96419.000000</td>\n",
       "      <td>96419.000000</td>\n",
       "    </tr>\n",
       "    <tr>\n",
       "      <th>mean</th>\n",
       "      <td>0.215144</td>\n",
       "      <td>0.229707</td>\n",
       "      <td>0.385457</td>\n",
       "      <td>0.464967</td>\n",
       "      <td>0.237805</td>\n",
       "      <td>0.206622</td>\n",
       "      <td>0.377418</td>\n",
       "    </tr>\n",
       "    <tr>\n",
       "      <th>std</th>\n",
       "      <td>0.845323</td>\n",
       "      <td>0.866049</td>\n",
       "      <td>1.194652</td>\n",
       "      <td>1.282684</td>\n",
       "      <td>0.866427</td>\n",
       "      <td>1.298131</td>\n",
       "      <td>1.295855</td>\n",
       "    </tr>\n",
       "    <tr>\n",
       "      <th>min</th>\n",
       "      <td>-1.202381</td>\n",
       "      <td>-1.139241</td>\n",
       "      <td>-1.914894</td>\n",
       "      <td>-0.439024</td>\n",
       "      <td>-0.872727</td>\n",
       "      <td>-1.500000</td>\n",
       "      <td>-1.272727</td>\n",
       "    </tr>\n",
       "    <tr>\n",
       "      <th>25%</th>\n",
       "      <td>-0.416667</td>\n",
       "      <td>-0.405063</td>\n",
       "      <td>-0.319149</td>\n",
       "      <td>-0.292683</td>\n",
       "      <td>-0.407576</td>\n",
       "      <td>-0.500000</td>\n",
       "      <td>-0.363636</td>\n",
       "    </tr>\n",
       "    <tr>\n",
       "      <th>50%</th>\n",
       "      <td>0.000000</td>\n",
       "      <td>0.000000</td>\n",
       "      <td>0.000000</td>\n",
       "      <td>0.000000</td>\n",
       "      <td>0.000000</td>\n",
       "      <td>0.000000</td>\n",
       "      <td>0.000000</td>\n",
       "    </tr>\n",
       "    <tr>\n",
       "      <th>75%</th>\n",
       "      <td>0.583333</td>\n",
       "      <td>0.594937</td>\n",
       "      <td>0.680851</td>\n",
       "      <td>0.707317</td>\n",
       "      <td>0.592424</td>\n",
       "      <td>0.500000</td>\n",
       "      <td>0.636364</td>\n",
       "    </tr>\n",
       "    <tr>\n",
       "      <th>max</th>\n",
       "      <td>6.476190</td>\n",
       "      <td>6.797468</td>\n",
       "      <td>26.148936</td>\n",
       "      <td>29.609756</td>\n",
       "      <td>6.598485</td>\n",
       "      <td>35.000000</td>\n",
       "      <td>28.454545</td>\n",
       "    </tr>\n",
       "  </tbody>\n",
       "</table>\n",
       "</div>"
      ],
      "text/plain": [
       "       CRSElapsedTime       AirTime      ArrDelay      DepDelay      Distance  \\\n",
       "count    96419.000000  96419.000000  96419.000000  96419.000000  96419.000000   \n",
       "mean         0.215144      0.229707      0.385457      0.464967      0.237805   \n",
       "std          0.845323      0.866049      1.194652      1.282684      0.866427   \n",
       "min         -1.202381     -1.139241     -1.914894     -0.439024     -0.872727   \n",
       "25%         -0.416667     -0.405063     -0.319149     -0.292683     -0.407576   \n",
       "50%          0.000000      0.000000      0.000000      0.000000      0.000000   \n",
       "75%          0.583333      0.594937      0.680851      0.707317      0.592424   \n",
       "max          6.476190      6.797468     26.148936     29.609756      6.598485   \n",
       "\n",
       "             TaxiIn       TaxiOut  \n",
       "count  96419.000000  96419.000000  \n",
       "mean       0.206622      0.377418  \n",
       "std        1.298131      1.295855  \n",
       "min       -1.500000     -1.272727  \n",
       "25%       -0.500000     -0.363636  \n",
       "50%        0.000000      0.000000  \n",
       "75%        0.500000      0.636364  \n",
       "max       35.000000     28.454545  "
      ]
     },
     "execution_count": 17,
     "metadata": {},
     "output_type": "execute_result"
    }
   ],
   "source": [
    "df_scaled_features.describe()"
   ]
  },
  {
   "cell_type": "code",
   "execution_count": 18,
   "id": "177da1c7",
   "metadata": {},
   "outputs": [],
   "source": [
    "df_scaled_features.to_csv('flights-sampled-robustscale.csv', index=False)"
   ]
  },
  {
   "cell_type": "markdown",
   "id": "79cb07e4",
   "metadata": {},
   "source": [
    "I will apply PCA in a separate notebook before clustering so that I can plot the results in two dimensions.\n",
    "\n",
    "- https://github.com/KatBCN/NoSupervisat_Classificacio/blob/main/Sprint11-Clustering-PCA.ipynb"
   ]
  }
 ],
 "metadata": {
  "kernelspec": {
   "display_name": "Python 3 (ipykernel)",
   "language": "python",
   "name": "python3"
  },
  "language_info": {
   "codemirror_mode": {
    "name": "ipython",
    "version": 3
   },
   "file_extension": ".py",
   "mimetype": "text/x-python",
   "name": "python",
   "nbconvert_exporter": "python",
   "pygments_lexer": "ipython3",
   "version": "3.8.8"
  },
  "nbTranslate": {
   "displayLangs": [
    "es",
    "en"
   ],
   "hotkey": "alt-t",
   "langInMainMenu": true,
   "sourceLang": "en",
   "targetLang": "es",
   "useGoogleTranslate": true
  },
  "varInspector": {
   "cols": {
    "lenName": 16,
    "lenType": 16,
    "lenVar": 40
   },
   "kernels_config": {
    "python": {
     "delete_cmd_postfix": "",
     "delete_cmd_prefix": "del ",
     "library": "var_list.py",
     "varRefreshCmd": "print(var_dic_list())"
    },
    "r": {
     "delete_cmd_postfix": ") ",
     "delete_cmd_prefix": "rm(",
     "library": "var_list.r",
     "varRefreshCmd": "cat(var_dic_list()) "
    }
   },
   "types_to_exclude": [
    "module",
    "function",
    "builtin_function_or_method",
    "instance",
    "_Feature"
   ],
   "window_display": false
  }
 },
 "nbformat": 4,
 "nbformat_minor": 5
}
