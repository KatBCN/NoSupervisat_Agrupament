{
  "cells": [
    {
      "cell_type": "markdown",
      "metadata": {
        "id": "view-in-github",
        "colab_type": "text"
      },
      "source": [
        "<a href=\"https://colab.research.google.com/github/KatBCN/NoSupervisat_Classificacio/blob/main/Sprint_11_Clustering_Sample.ipynb\" target=\"_parent\"><img src=\"https://colab.research.google.com/assets/colab-badge.svg\" alt=\"Open In Colab\"/></a>"
      ]
    },
    {
      "cell_type": "markdown",
      "id": "98b21b19",
      "metadata": {
        "id": "98b21b19"
      },
      "source": [
        "# <font color='#d50283'>IT Academy - Data Science Itinerary</font>\n",
        "## Sprint 11 Task 1 - Clustering\n",
        "### Assignment by: Kat Weissman\n",
        "\n",
        "#### General objective:\n",
        "\n",
        "- Become familiar with clustering algorithms.\n",
        "\n",
        "#### Python Learning Objectives:\n",
        "- K Means\n",
        "- Hierarchical clustering"
      ]
    },
    {
      "cell_type": "markdown",
      "id": "6ce01116",
      "metadata": {
        "id": "6ce01116"
      },
      "source": [
        "*Recommended learning resources:*\n",
        "- https://towardsdatascience.com/the-5-clustering-algorithms-data-scientists-need-to-know-a36d136ef68\n",
        "- https://realpython.com/k-means-clustering-python/\n",
        "- https://towardsdatascience.com/pca-using-python-scikit-learn-e653f8989e60\n",
        "- https://jakevdp.github.io/PythonDataScienceHandbook/05.09-principal-component-analysis.html\n",
        "- https://towardsdatascience.com/machine-learning-algorithms-part-12-hierarchical-agglomerative-clustering-example-in-python-1e18e0075019\n",
        "- https://www.analyticsvidhya.com/blog/2019/05/beginners-guide-hierarchical-clustering/\n"
      ]
    },
    {
      "cell_type": "code",
      "execution_count": 43,
      "id": "932e69da",
      "metadata": {
        "ExecuteTime": {
          "end_time": "2021-07-22T10:31:49.600112Z",
          "start_time": "2021-07-22T10:31:49.590900Z"
        },
        "id": "932e69da"
      },
      "outputs": [],
      "source": [
        "#Import libraries\n",
        "import numpy as np\n",
        "import pandas as pd\n",
        "import matplotlib.pyplot as plt\n",
        "import matplotlib.cm as cm\n",
        "import seaborn as sns\n",
        "from sklearn.cluster import KMeans\n",
        "from sklearn.cluster import MiniBatchKMeans\n",
        "from sklearn.metrics import silhouette_samples, silhouette_score"
      ]
    },
    {
      "cell_type": "markdown",
      "id": "a328a38d",
      "metadata": {
        "id": "a328a38d"
      },
      "source": [
        "### Level 1\n",
        "### Exercise 1 \n",
        "Group the different flights using the K-means algorithm."
      ]
    },
    {
      "cell_type": "code",
      "execution_count": 25,
      "id": "6e0f87d6",
      "metadata": {
        "id": "6e0f87d6"
      },
      "outputs": [],
      "source": [
        "pd.set_option('display.max_columns', None)  #set display to show all columns"
      ]
    },
    {
      "cell_type": "markdown",
      "id": "fa438a01",
      "metadata": {
        "id": "fa438a01"
      },
      "source": [
        "I will load the data which I scaled in a different notebook.\n",
        "\n",
        "- https://github.com/KatBCN/NoSupervisat_Classificacio/blob/main/Sprint11-Clustering-Sample-PreProcessing%20.ipynb\n",
        "\n",
        "Data link:\n",
        "- https://raw.githubusercontent.com/KatBCN/NoSupervisat_Classificacio/main/flights-sampled-robustscale.csv\n"
      ]
    },
    {
      "cell_type": "code",
      "execution_count": 26,
      "id": "276e8c30",
      "metadata": {
        "id": "276e8c30"
      },
      "outputs": [],
      "source": [
        "# load data\n",
        "data_link = 'https://raw.githubusercontent.com/KatBCN/NoSupervisat_Classificacio/main/flights-sampled-robustscale.csv'\n",
        "df = pd.read_csv(data_link)"
      ]
    },
    {
      "cell_type": "markdown",
      "id": "0930e7af",
      "metadata": {
        "id": "0930e7af"
      },
      "source": [
        "#### Data Exploration"
      ]
    },
    {
      "cell_type": "code",
      "execution_count": 27,
      "id": "676b7b91",
      "metadata": {
        "id": "676b7b91",
        "outputId": "9a5a022c-5bfc-4f7b-d9be-6e1a9fbabae4",
        "colab": {
          "base_uri": "https://localhost:8080/"
        }
      },
      "outputs": [
        {
          "output_type": "execute_result",
          "data": {
            "text/plain": [
              "(96419, 7)"
            ]
          },
          "metadata": {},
          "execution_count": 27
        }
      ],
      "source": [
        "# Show number of rows and columns in dataframe\n",
        "df.shape"
      ]
    },
    {
      "cell_type": "code",
      "execution_count": 28,
      "id": "fe56a352",
      "metadata": {
        "scrolled": false,
        "id": "fe56a352",
        "outputId": "f05df4ab-3d97-4b97-a529-fa9b2bfa8e0e",
        "colab": {
          "base_uri": "https://localhost:8080/"
        }
      },
      "outputs": [
        {
          "output_type": "execute_result",
          "data": {
            "text/plain": [
              "CRSElapsedTime    float64\n",
              "AirTime           float64\n",
              "ArrDelay          float64\n",
              "DepDelay          float64\n",
              "Distance          float64\n",
              "TaxiIn            float64\n",
              "TaxiOut           float64\n",
              "dtype: object"
            ]
          },
          "metadata": {},
          "execution_count": 28
        }
      ],
      "source": [
        "# Show column names and dtypes\n",
        "df.dtypes"
      ]
    },
    {
      "cell_type": "code",
      "execution_count": 29,
      "id": "da2379e4",
      "metadata": {
        "scrolled": true,
        "id": "da2379e4",
        "outputId": "ed3556c9-1704-4019-c74c-fdebd9bbafd2",
        "colab": {
          "base_uri": "https://localhost:8080/",
          "height": 206
        }
      },
      "outputs": [
        {
          "output_type": "execute_result",
          "data": {
            "text/html": [
              "\n",
              "  <div id=\"df-0361ffc7-fc01-4d15-a69d-d7c77c641488\">\n",
              "    <div class=\"colab-df-container\">\n",
              "      <div>\n",
              "<style scoped>\n",
              "    .dataframe tbody tr th:only-of-type {\n",
              "        vertical-align: middle;\n",
              "    }\n",
              "\n",
              "    .dataframe tbody tr th {\n",
              "        vertical-align: top;\n",
              "    }\n",
              "\n",
              "    .dataframe thead th {\n",
              "        text-align: right;\n",
              "    }\n",
              "</style>\n",
              "<table border=\"1\" class=\"dataframe\">\n",
              "  <thead>\n",
              "    <tr style=\"text-align: right;\">\n",
              "      <th></th>\n",
              "      <th>CRSElapsedTime</th>\n",
              "      <th>AirTime</th>\n",
              "      <th>ArrDelay</th>\n",
              "      <th>DepDelay</th>\n",
              "      <th>Distance</th>\n",
              "      <th>TaxiIn</th>\n",
              "      <th>TaxiOut</th>\n",
              "    </tr>\n",
              "  </thead>\n",
              "  <tbody>\n",
              "    <tr>\n",
              "      <th>0</th>\n",
              "      <td>1.892857</td>\n",
              "      <td>2.050633</td>\n",
              "      <td>-0.510638</td>\n",
              "      <td>-0.439024</td>\n",
              "      <td>2.048485</td>\n",
              "      <td>-0.25</td>\n",
              "      <td>-0.181818</td>\n",
              "    </tr>\n",
              "    <tr>\n",
              "      <th>1</th>\n",
              "      <td>-0.333333</td>\n",
              "      <td>-0.265823</td>\n",
              "      <td>-0.191489</td>\n",
              "      <td>-0.439024</td>\n",
              "      <td>-0.359091</td>\n",
              "      <td>0.75</td>\n",
              "      <td>0.454545</td>\n",
              "    </tr>\n",
              "    <tr>\n",
              "      <th>2</th>\n",
              "      <td>-0.666667</td>\n",
              "      <td>-0.620253</td>\n",
              "      <td>-0.276596</td>\n",
              "      <td>-0.317073</td>\n",
              "      <td>-0.621212</td>\n",
              "      <td>-0.75</td>\n",
              "      <td>0.181818</td>\n",
              "    </tr>\n",
              "    <tr>\n",
              "      <th>3</th>\n",
              "      <td>0.107143</td>\n",
              "      <td>0.392405</td>\n",
              "      <td>-0.021277</td>\n",
              "      <td>-0.195122</td>\n",
              "      <td>0.121212</td>\n",
              "      <td>-0.75</td>\n",
              "      <td>-0.545455</td>\n",
              "    </tr>\n",
              "    <tr>\n",
              "      <th>4</th>\n",
              "      <td>-0.011905</td>\n",
              "      <td>-0.050633</td>\n",
              "      <td>-0.212766</td>\n",
              "      <td>0.121951</td>\n",
              "      <td>-0.025758</td>\n",
              "      <td>0.00</td>\n",
              "      <td>-0.545455</td>\n",
              "    </tr>\n",
              "  </tbody>\n",
              "</table>\n",
              "</div>\n",
              "      <button class=\"colab-df-convert\" onclick=\"convertToInteractive('df-0361ffc7-fc01-4d15-a69d-d7c77c641488')\"\n",
              "              title=\"Convert this dataframe to an interactive table.\"\n",
              "              style=\"display:none;\">\n",
              "        \n",
              "  <svg xmlns=\"http://www.w3.org/2000/svg\" height=\"24px\"viewBox=\"0 0 24 24\"\n",
              "       width=\"24px\">\n",
              "    <path d=\"M0 0h24v24H0V0z\" fill=\"none\"/>\n",
              "    <path d=\"M18.56 5.44l.94 2.06.94-2.06 2.06-.94-2.06-.94-.94-2.06-.94 2.06-2.06.94zm-11 1L8.5 8.5l.94-2.06 2.06-.94-2.06-.94L8.5 2.5l-.94 2.06-2.06.94zm10 10l.94 2.06.94-2.06 2.06-.94-2.06-.94-.94-2.06-.94 2.06-2.06.94z\"/><path d=\"M17.41 7.96l-1.37-1.37c-.4-.4-.92-.59-1.43-.59-.52 0-1.04.2-1.43.59L10.3 9.45l-7.72 7.72c-.78.78-.78 2.05 0 2.83L4 21.41c.39.39.9.59 1.41.59.51 0 1.02-.2 1.41-.59l7.78-7.78 2.81-2.81c.8-.78.8-2.07 0-2.86zM5.41 20L4 18.59l7.72-7.72 1.47 1.35L5.41 20z\"/>\n",
              "  </svg>\n",
              "      </button>\n",
              "      \n",
              "  <style>\n",
              "    .colab-df-container {\n",
              "      display:flex;\n",
              "      flex-wrap:wrap;\n",
              "      gap: 12px;\n",
              "    }\n",
              "\n",
              "    .colab-df-convert {\n",
              "      background-color: #E8F0FE;\n",
              "      border: none;\n",
              "      border-radius: 50%;\n",
              "      cursor: pointer;\n",
              "      display: none;\n",
              "      fill: #1967D2;\n",
              "      height: 32px;\n",
              "      padding: 0 0 0 0;\n",
              "      width: 32px;\n",
              "    }\n",
              "\n",
              "    .colab-df-convert:hover {\n",
              "      background-color: #E2EBFA;\n",
              "      box-shadow: 0px 1px 2px rgba(60, 64, 67, 0.3), 0px 1px 3px 1px rgba(60, 64, 67, 0.15);\n",
              "      fill: #174EA6;\n",
              "    }\n",
              "\n",
              "    [theme=dark] .colab-df-convert {\n",
              "      background-color: #3B4455;\n",
              "      fill: #D2E3FC;\n",
              "    }\n",
              "\n",
              "    [theme=dark] .colab-df-convert:hover {\n",
              "      background-color: #434B5C;\n",
              "      box-shadow: 0px 1px 3px 1px rgba(0, 0, 0, 0.15);\n",
              "      filter: drop-shadow(0px 1px 2px rgba(0, 0, 0, 0.3));\n",
              "      fill: #FFFFFF;\n",
              "    }\n",
              "  </style>\n",
              "\n",
              "      <script>\n",
              "        const buttonEl =\n",
              "          document.querySelector('#df-0361ffc7-fc01-4d15-a69d-d7c77c641488 button.colab-df-convert');\n",
              "        buttonEl.style.display =\n",
              "          google.colab.kernel.accessAllowed ? 'block' : 'none';\n",
              "\n",
              "        async function convertToInteractive(key) {\n",
              "          const element = document.querySelector('#df-0361ffc7-fc01-4d15-a69d-d7c77c641488');\n",
              "          const dataTable =\n",
              "            await google.colab.kernel.invokeFunction('convertToInteractive',\n",
              "                                                     [key], {});\n",
              "          if (!dataTable) return;\n",
              "\n",
              "          const docLinkHtml = 'Like what you see? Visit the ' +\n",
              "            '<a target=\"_blank\" href=https://colab.research.google.com/notebooks/data_table.ipynb>data table notebook</a>'\n",
              "            + ' to learn more about interactive tables.';\n",
              "          element.innerHTML = '';\n",
              "          dataTable['output_type'] = 'display_data';\n",
              "          await google.colab.output.renderOutput(dataTable, element);\n",
              "          const docLink = document.createElement('div');\n",
              "          docLink.innerHTML = docLinkHtml;\n",
              "          element.appendChild(docLink);\n",
              "        }\n",
              "      </script>\n",
              "    </div>\n",
              "  </div>\n",
              "  "
            ],
            "text/plain": [
              "   CRSElapsedTime   AirTime  ArrDelay  DepDelay  Distance  TaxiIn   TaxiOut\n",
              "0        1.892857  2.050633 -0.510638 -0.439024  2.048485   -0.25 -0.181818\n",
              "1       -0.333333 -0.265823 -0.191489 -0.439024 -0.359091    0.75  0.454545\n",
              "2       -0.666667 -0.620253 -0.276596 -0.317073 -0.621212   -0.75  0.181818\n",
              "3        0.107143  0.392405 -0.021277 -0.195122  0.121212   -0.75 -0.545455\n",
              "4       -0.011905 -0.050633 -0.212766  0.121951 -0.025758    0.00 -0.545455"
            ]
          },
          "metadata": {},
          "execution_count": 29
        }
      ],
      "source": [
        "# Display first 5 rows of dataframe\n",
        "df.head(5)"
      ]
    },
    {
      "cell_type": "code",
      "execution_count": 30,
      "id": "f9fb461c",
      "metadata": {
        "scrolled": false,
        "id": "f9fb461c",
        "outputId": "a5282b62-ce66-475a-be1c-3852c508a816",
        "colab": {
          "base_uri": "https://localhost:8080/"
        }
      },
      "outputs": [
        {
          "output_type": "execute_result",
          "data": {
            "text/plain": [
              "CRSElapsedTime    0\n",
              "AirTime           0\n",
              "ArrDelay          0\n",
              "DepDelay          0\n",
              "Distance          0\n",
              "TaxiIn            0\n",
              "TaxiOut           0\n",
              "dtype: int64"
            ]
          },
          "metadata": {},
          "execution_count": 30
        }
      ],
      "source": [
        "# Check for NA values\n",
        "df.isna().sum()"
      ]
    },
    {
      "cell_type": "markdown",
      "id": "7f5c583c",
      "metadata": {
        "id": "7f5c583c"
      },
      "source": [
        "##### K Means Algorithm\n",
        "\n",
        "- https://scikit-learn.org/stable/modules/generated/sklearn.cluster.KMeans.html\n",
        "\n",
        "Default arguments:\n",
        "\n",
        "class sklearn.cluster.KMeans(n_clusters=8, *, init='k-means++', n_init=10, max_iter=300, tol=0.0001, verbose=0, random_state=None, copy_x=True, algorithm='auto')\n",
        "\n",
        "I do not know the ideal number of clusters, but will try with 3 clusters, and limit the maximum number of iterations to 10 for the sake of time."
      ]
    },
    {
      "cell_type": "markdown",
      "id": "a73e86fc",
      "metadata": {
        "id": "a73e86fc"
      },
      "source": [
        "##### K Means Mini Batch Algorithm for Large Datasets\n",
        "\n",
        "- https://scikit-learn.org/stable/modules/generated/sklearn.cluster.MiniBatchKMeans.html\n",
        "\n",
        "Default arguments:\n",
        "\n",
        "class sklearn.cluster.MiniBatchKMeans(n_clusters=8, *, init='k-means++', max_iter=100, batch_size=1024, verbose=0, compute_labels=True, random_state=None, tol=0.0, max_no_improvement=10, init_size=None, n_init=3, reassignment_ratio=0.01)"
      ]
    },
    {
      "cell_type": "code",
      "execution_count": 46,
      "id": "e424da9a",
      "metadata": {
        "scrolled": true,
        "id": "e424da9a"
      },
      "outputs": [],
      "source": [
        "# define the model\n",
        "kmeans = MiniBatchKMeans(n_clusters=5,random_state=324)"
      ]
    },
    {
      "cell_type": "code",
      "execution_count": 47,
      "id": "c60c0db4",
      "metadata": {
        "scrolled": true,
        "id": "c60c0db4",
        "colab": {
          "base_uri": "https://localhost:8080/"
        },
        "outputId": "0c6dd8a6-3807-4f09-8003-a6ab6d265430"
      },
      "outputs": [
        {
          "output_type": "execute_result",
          "data": {
            "text/plain": [
              "MiniBatchKMeans(n_clusters=5, random_state=324)"
            ]
          },
          "metadata": {},
          "execution_count": 47
        }
      ],
      "source": [
        "# fit the model\n",
        "kmeans.fit(df)"
      ]
    },
    {
      "cell_type": "code",
      "source": [
        "# assign a cluster to each example\n",
        "yhat = kmeans.predict(df)"
      ],
      "metadata": {
        "id": "CnWKuBmct2Gs"
      },
      "id": "CnWKuBmct2Gs",
      "execution_count": 48,
      "outputs": []
    },
    {
      "cell_type": "code",
      "source": [
        "# dataframe with clusters \n",
        "df['clusters'] = yhat.tolist()"
      ],
      "metadata": {
        "id": "xtDj16eDucNy"
      },
      "id": "xtDj16eDucNy",
      "execution_count": 50,
      "outputs": []
    },
    {
      "cell_type": "code",
      "source": [
        "df.head()"
      ],
      "metadata": {
        "colab": {
          "base_uri": "https://localhost:8080/",
          "height": 206
        },
        "id": "s1i3L8VCNhzE",
        "outputId": "9ae984f0-cd60-4f2e-d45a-bfcbd69dc7f6"
      },
      "id": "s1i3L8VCNhzE",
      "execution_count": 51,
      "outputs": [
        {
          "output_type": "execute_result",
          "data": {
            "text/html": [
              "\n",
              "  <div id=\"df-35ebfa18-62c4-4aad-bcb1-f69952cbff85\">\n",
              "    <div class=\"colab-df-container\">\n",
              "      <div>\n",
              "<style scoped>\n",
              "    .dataframe tbody tr th:only-of-type {\n",
              "        vertical-align: middle;\n",
              "    }\n",
              "\n",
              "    .dataframe tbody tr th {\n",
              "        vertical-align: top;\n",
              "    }\n",
              "\n",
              "    .dataframe thead th {\n",
              "        text-align: right;\n",
              "    }\n",
              "</style>\n",
              "<table border=\"1\" class=\"dataframe\">\n",
              "  <thead>\n",
              "    <tr style=\"text-align: right;\">\n",
              "      <th></th>\n",
              "      <th>CRSElapsedTime</th>\n",
              "      <th>AirTime</th>\n",
              "      <th>ArrDelay</th>\n",
              "      <th>DepDelay</th>\n",
              "      <th>Distance</th>\n",
              "      <th>TaxiIn</th>\n",
              "      <th>TaxiOut</th>\n",
              "      <th>clusters</th>\n",
              "    </tr>\n",
              "  </thead>\n",
              "  <tbody>\n",
              "    <tr>\n",
              "      <th>0</th>\n",
              "      <td>1.892857</td>\n",
              "      <td>2.050633</td>\n",
              "      <td>-0.510638</td>\n",
              "      <td>-0.439024</td>\n",
              "      <td>2.048485</td>\n",
              "      <td>-0.25</td>\n",
              "      <td>-0.181818</td>\n",
              "      <td>2</td>\n",
              "    </tr>\n",
              "    <tr>\n",
              "      <th>1</th>\n",
              "      <td>-0.333333</td>\n",
              "      <td>-0.265823</td>\n",
              "      <td>-0.191489</td>\n",
              "      <td>-0.439024</td>\n",
              "      <td>-0.359091</td>\n",
              "      <td>0.75</td>\n",
              "      <td>0.454545</td>\n",
              "      <td>0</td>\n",
              "    </tr>\n",
              "    <tr>\n",
              "      <th>2</th>\n",
              "      <td>-0.666667</td>\n",
              "      <td>-0.620253</td>\n",
              "      <td>-0.276596</td>\n",
              "      <td>-0.317073</td>\n",
              "      <td>-0.621212</td>\n",
              "      <td>-0.75</td>\n",
              "      <td>0.181818</td>\n",
              "      <td>0</td>\n",
              "    </tr>\n",
              "    <tr>\n",
              "      <th>3</th>\n",
              "      <td>0.107143</td>\n",
              "      <td>0.392405</td>\n",
              "      <td>-0.021277</td>\n",
              "      <td>-0.195122</td>\n",
              "      <td>0.121212</td>\n",
              "      <td>-0.75</td>\n",
              "      <td>-0.545455</td>\n",
              "      <td>0</td>\n",
              "    </tr>\n",
              "    <tr>\n",
              "      <th>4</th>\n",
              "      <td>-0.011905</td>\n",
              "      <td>-0.050633</td>\n",
              "      <td>-0.212766</td>\n",
              "      <td>0.121951</td>\n",
              "      <td>-0.025758</td>\n",
              "      <td>0.00</td>\n",
              "      <td>-0.545455</td>\n",
              "      <td>0</td>\n",
              "    </tr>\n",
              "  </tbody>\n",
              "</table>\n",
              "</div>\n",
              "      <button class=\"colab-df-convert\" onclick=\"convertToInteractive('df-35ebfa18-62c4-4aad-bcb1-f69952cbff85')\"\n",
              "              title=\"Convert this dataframe to an interactive table.\"\n",
              "              style=\"display:none;\">\n",
              "        \n",
              "  <svg xmlns=\"http://www.w3.org/2000/svg\" height=\"24px\"viewBox=\"0 0 24 24\"\n",
              "       width=\"24px\">\n",
              "    <path d=\"M0 0h24v24H0V0z\" fill=\"none\"/>\n",
              "    <path d=\"M18.56 5.44l.94 2.06.94-2.06 2.06-.94-2.06-.94-.94-2.06-.94 2.06-2.06.94zm-11 1L8.5 8.5l.94-2.06 2.06-.94-2.06-.94L8.5 2.5l-.94 2.06-2.06.94zm10 10l.94 2.06.94-2.06 2.06-.94-2.06-.94-.94-2.06-.94 2.06-2.06.94z\"/><path d=\"M17.41 7.96l-1.37-1.37c-.4-.4-.92-.59-1.43-.59-.52 0-1.04.2-1.43.59L10.3 9.45l-7.72 7.72c-.78.78-.78 2.05 0 2.83L4 21.41c.39.39.9.59 1.41.59.51 0 1.02-.2 1.41-.59l7.78-7.78 2.81-2.81c.8-.78.8-2.07 0-2.86zM5.41 20L4 18.59l7.72-7.72 1.47 1.35L5.41 20z\"/>\n",
              "  </svg>\n",
              "      </button>\n",
              "      \n",
              "  <style>\n",
              "    .colab-df-container {\n",
              "      display:flex;\n",
              "      flex-wrap:wrap;\n",
              "      gap: 12px;\n",
              "    }\n",
              "\n",
              "    .colab-df-convert {\n",
              "      background-color: #E8F0FE;\n",
              "      border: none;\n",
              "      border-radius: 50%;\n",
              "      cursor: pointer;\n",
              "      display: none;\n",
              "      fill: #1967D2;\n",
              "      height: 32px;\n",
              "      padding: 0 0 0 0;\n",
              "      width: 32px;\n",
              "    }\n",
              "\n",
              "    .colab-df-convert:hover {\n",
              "      background-color: #E2EBFA;\n",
              "      box-shadow: 0px 1px 2px rgba(60, 64, 67, 0.3), 0px 1px 3px 1px rgba(60, 64, 67, 0.15);\n",
              "      fill: #174EA6;\n",
              "    }\n",
              "\n",
              "    [theme=dark] .colab-df-convert {\n",
              "      background-color: #3B4455;\n",
              "      fill: #D2E3FC;\n",
              "    }\n",
              "\n",
              "    [theme=dark] .colab-df-convert:hover {\n",
              "      background-color: #434B5C;\n",
              "      box-shadow: 0px 1px 3px 1px rgba(0, 0, 0, 0.15);\n",
              "      filter: drop-shadow(0px 1px 2px rgba(0, 0, 0, 0.3));\n",
              "      fill: #FFFFFF;\n",
              "    }\n",
              "  </style>\n",
              "\n",
              "      <script>\n",
              "        const buttonEl =\n",
              "          document.querySelector('#df-35ebfa18-62c4-4aad-bcb1-f69952cbff85 button.colab-df-convert');\n",
              "        buttonEl.style.display =\n",
              "          google.colab.kernel.accessAllowed ? 'block' : 'none';\n",
              "\n",
              "        async function convertToInteractive(key) {\n",
              "          const element = document.querySelector('#df-35ebfa18-62c4-4aad-bcb1-f69952cbff85');\n",
              "          const dataTable =\n",
              "            await google.colab.kernel.invokeFunction('convertToInteractive',\n",
              "                                                     [key], {});\n",
              "          if (!dataTable) return;\n",
              "\n",
              "          const docLinkHtml = 'Like what you see? Visit the ' +\n",
              "            '<a target=\"_blank\" href=https://colab.research.google.com/notebooks/data_table.ipynb>data table notebook</a>'\n",
              "            + ' to learn more about interactive tables.';\n",
              "          element.innerHTML = '';\n",
              "          dataTable['output_type'] = 'display_data';\n",
              "          await google.colab.output.renderOutput(dataTable, element);\n",
              "          const docLink = document.createElement('div');\n",
              "          docLink.innerHTML = docLinkHtml;\n",
              "          element.appendChild(docLink);\n",
              "        }\n",
              "      </script>\n",
              "    </div>\n",
              "  </div>\n",
              "  "
            ],
            "text/plain": [
              "   CRSElapsedTime   AirTime  ArrDelay  DepDelay  Distance  TaxiIn   TaxiOut  \\\n",
              "0        1.892857  2.050633 -0.510638 -0.439024  2.048485   -0.25 -0.181818   \n",
              "1       -0.333333 -0.265823 -0.191489 -0.439024 -0.359091    0.75  0.454545   \n",
              "2       -0.666667 -0.620253 -0.276596 -0.317073 -0.621212   -0.75  0.181818   \n",
              "3        0.107143  0.392405 -0.021277 -0.195122  0.121212   -0.75 -0.545455   \n",
              "4       -0.011905 -0.050633 -0.212766  0.121951 -0.025758    0.00 -0.545455   \n",
              "\n",
              "   clusters  \n",
              "0         2  \n",
              "1         0  \n",
              "2         0  \n",
              "3         0  \n",
              "4         0  "
            ]
          },
          "metadata": {},
          "execution_count": 51
        }
      ]
    },
    {
      "cell_type": "code",
      "source": [
        "df.clusters.value_counts()"
      ],
      "metadata": {
        "colab": {
          "base_uri": "https://localhost:8080/"
        },
        "id": "IucWbvBHOAn9",
        "outputId": "25adf75b-1a24-40ec-ca00-bbf1385ad001"
      },
      "id": "IucWbvBHOAn9",
      "execution_count": 52,
      "outputs": [
        {
          "output_type": "execute_result",
          "data": {
            "text/plain": [
              "0    61284\n",
              "2    14884\n",
              "4     9364\n",
              "1     6254\n",
              "3     4633\n",
              "Name: clusters, dtype: int64"
            ]
          },
          "metadata": {},
          "execution_count": 52
        }
      ]
    },
    {
      "cell_type": "code",
      "source": [
        "df.clusters.value_counts(normalize=True)"
      ],
      "metadata": {
        "colab": {
          "base_uri": "https://localhost:8080/"
        },
        "id": "mOiuChV4OFZ2",
        "outputId": "bb5f3e28-5e5c-4db7-b451-03f41eadff9f"
      },
      "id": "mOiuChV4OFZ2",
      "execution_count": 53,
      "outputs": [
        {
          "output_type": "execute_result",
          "data": {
            "text/plain": [
              "0    0.635601\n",
              "2    0.154368\n",
              "4    0.097118\n",
              "1    0.064863\n",
              "3    0.048051\n",
              "Name: clusters, dtype: float64"
            ]
          },
          "metadata": {},
          "execution_count": 53
        }
      ]
    },
    {
      "cell_type": "markdown",
      "source": [
        "The following code chunk is taken and modified from the website:\n",
        "- https://medium.com/more-python-less-problems/principal-component-analysis-and-k-means-clustering-to-visualize-a-high-dimensional-dataset-577b2a7a5fe2\n",
        "\n",
        "Using the elbow plot method, the best number of clusters is in the range of 3 to 8 where the plot curves. The last big drop in inertia (indicating an information gain) occurs at 5."
      ],
      "metadata": {
        "id": "xvW4_RyoCaUg"
      },
      "id": "xvW4_RyoCaUg"
    },
    {
      "cell_type": "code",
      "source": [
        "ks = range(1, 20)\n",
        "inertias = []\n",
        "for k in ks:\n",
        "    # Create a KMeans instance with k clusters: model\n",
        "    model = MiniBatchKMeans(n_clusters=k,random_state=324)\n",
        "    \n",
        "    # Fit model to samples\n",
        "    model.fit(df)\n",
        "    \n",
        "    # Append the inertia to the list of inertias\n",
        "    inertias.append(model.inertia_)\n",
        "    \n",
        "plt.plot(ks, inertias, '-o', color='black')\n",
        "plt.xlabel('number of clusters, k')\n",
        "plt.ylabel('inertia')\n",
        "plt.xticks(ks)\n",
        "plt.show()"
      ],
      "metadata": {
        "colab": {
          "base_uri": "https://localhost:8080/",
          "height": 278
        },
        "id": "bep69O3iBQJO",
        "outputId": "f1b927b5-eed4-44a7-8fe7-3eb9c59a03a7"
      },
      "id": "bep69O3iBQJO",
      "execution_count": 37,
      "outputs": [
        {
          "output_type": "display_data",
          "data": {
            "image/png": "[encoded data removed]",
            "text/plain": [
              "<Figure size 432x288 with 1 Axes>"
            ]
          },
          "metadata": {
            "needs_background": "light"
          }
        }
      ]
    },
    {
      "cell_type": "markdown",
      "id": "99d41f1f",
      "metadata": {
        "id": "99d41f1f"
      },
      "source": [
        "### Level 2\n",
        "### Exercise 2 \n",
        "Group the different flights using the hierarchical clustering algorithm.\n"
      ]
    },
    {
      "cell_type": "markdown",
      "id": "fc601703",
      "metadata": {
        "id": "fc601703"
      },
      "source": [
        "### Level 3\n",
        "### Exercise 3 \n",
        "Calculate clustering performance using a parameter such as silhouette.\n",
        "\n",
        "The following code was taken and modified from:\n",
        "- https://scikit-learn.org/stable/auto_examples/cluster/plot_kmeans_silhouette_analysis.html"
      ]
    },
    {
      "cell_type": "markdown",
      "source": [
        "Based on the elbow plot, I will evaluate the average silhouette score for a few values in the range of 3 to 11.\n",
        "\n",
        "The average silhouette scores are not great, but 5 clusters has the best performance."
      ],
      "metadata": {
        "id": "mdzAuYYwKrrz"
      },
      "id": "mdzAuYYwKrrz"
    },
    {
      "cell_type": "code",
      "source": [
        "X = df"
      ],
      "metadata": {
        "id": "qtWP7boYD9sj"
      },
      "id": "qtWP7boYD9sj",
      "execution_count": 38,
      "outputs": []
    },
    {
      "cell_type": "code",
      "source": [
        "range_n_clusters = [3, 5, 6, 8, 11]\n",
        "\n",
        "for n_clusters in range_n_clusters:\n",
        "    # Initialize the clusterer with n_clusters value and a random generator\n",
        "    # seed of 324 for reproducibility.\n",
        "    clusterer = MiniBatchKMeans(n_clusters=n_clusters, random_state=324)\n",
        "    cluster_labels = clusterer.fit_predict(X)\n",
        "\n",
        "    # The silhouette_score gives the average value for all the samples.\n",
        "    # This gives a perspective into the density and separation of the formed\n",
        "    # clusters\n",
        "    silhouette_avg = silhouette_score(X, cluster_labels)\n",
        "    print(\n",
        "        \"For n_clusters =\",\n",
        "        n_clusters,\n",
        "        \"The average silhouette_score is :\",\n",
        "        silhouette_avg,\n",
        "    )"
      ],
      "metadata": {
        "colab": {
          "base_uri": "https://localhost:8080/"
        },
        "id": "T7JnPGPnH8HM",
        "outputId": "07ddb6fa-de5f-499a-c86e-958df1f50431"
      },
      "id": "T7JnPGPnH8HM",
      "execution_count": 45,
      "outputs": [
        {
          "output_type": "stream",
          "name": "stdout",
          "text": [
            "For n_clusters = 3 The average silhouette_score is : 0.3344451809633542\n",
            "For n_clusters = 5 The average silhouette_score is : 0.3876503937676671\n",
            "For n_clusters = 6 The average silhouette_score is : 0.33018900739694634\n",
            "For n_clusters = 8 The average silhouette_score is : 0.24675039712059613\n",
            "For n_clusters = 11 The average silhouette_score is : 0.24649884870572922\n"
          ]
        }
      ]
    },
    {
      "cell_type": "code",
      "source": [
        "range_n_clusters = [2]\n",
        "\n",
        "for n_clusters in range_n_clusters:\n",
        "    # Initialize the clusterer with n_clusters value and a random generator\n",
        "    # seed of 324 for reproducibility.\n",
        "    clusterer = MiniBatchKMeans(n_clusters=n_clusters, random_state=324)\n",
        "    cluster_labels = clusterer.fit_predict(X)\n",
        "\n",
        "    # The silhouette_score gives the average value for all the samples.\n",
        "    # This gives a perspective into the density and separation of the formed\n",
        "    # clusters\n",
        "    silhouette_avg = silhouette_score(X, cluster_labels)\n",
        "    print(\n",
        "        \"For n_clusters =\",\n",
        "        n_clusters,\n",
        "        \"The average silhouette_score is :\",\n",
        "        silhouette_avg,\n",
        "    )"
      ],
      "metadata": {
        "colab": {
          "base_uri": "https://localhost:8080/"
        },
        "id": "88A94PC-OOp-",
        "outputId": "26ba8a31-9836-41aa-aa99-03e0621bfa46"
      },
      "id": "88A94PC-OOp-",
      "execution_count": 54,
      "outputs": [
        {
          "output_type": "stream",
          "name": "stdout",
          "text": [
            "For n_clusters = 2 The average silhouette_score is : 0.5049933321461146\n"
          ]
        }
      ]
    }
  ],
  "metadata": {
    "kernelspec": {
      "display_name": "Python 3 (ipykernel)",
      "language": "python",
      "name": "python3"
    },
    "language_info": {
      "codemirror_mode": {
        "name": "ipython",
        "version": 3
      },
      "file_extension": ".py",
      "mimetype": "text/x-python",
      "name": "python",
      "nbconvert_exporter": "python",
      "pygments_lexer": "ipython3",
      "version": "3.8.8"
    },
    "nbTranslate": {
      "displayLangs": [
        "es",
        "en"
      ],
      "hotkey": "alt-t",
      "langInMainMenu": true,
      "sourceLang": "en",
      "targetLang": "es",
      "useGoogleTranslate": true
    },
    "varInspector": {
      "cols": {
        "lenName": 16,
        "lenType": 16,
        "lenVar": 40
      },
      "kernels_config": {
        "python": {
          "delete_cmd_postfix": "",
          "delete_cmd_prefix": "del ",
          "library": "var_list.py",
          "varRefreshCmd": "print(var_dic_list())"
        },
        "r": {
          "delete_cmd_postfix": ") ",
          "delete_cmd_prefix": "rm(",
          "library": "var_list.r",
          "varRefreshCmd": "cat(var_dic_list()) "
        }
      },
      "types_to_exclude": [
        "module",
        "function",
        "builtin_function_or_method",
        "instance",
        "_Feature"
      ],
      "window_display": false
    },
    "colab": {
      "name": "Sprint 11 - Clustering - Sample.ipynb",
      "provenance": [],
      "collapsed_sections": [],
      "include_colab_link": true
    }
  },
  "nbformat": 4,
  "nbformat_minor": 5
}